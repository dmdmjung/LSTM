{
 "metadata": {
  "language_info": {
   "codemirror_mode": {
    "name": "ipython",
    "version": 3
   },
   "file_extension": ".py",
   "mimetype": "text/x-python",
   "name": "python",
   "nbconvert_exporter": "python",
   "pygments_lexer": "ipython3",
   "version": "3.8.7"
  },
  "orig_nbformat": 4,
  "kernelspec": {
   "name": "python3",
   "display_name": "Python 3.8.7 64-bit"
  },
  "interpreter": {
   "hash": "f23faf4bfe871c203c8bec80520af5927fc7cb1ae3bd834ddf554ee587ad1c05"
  }
 },
 "nbformat": 4,
 "nbformat_minor": 2,
 "cells": [
  {
   "source": [
    "<h1 >Dimer Prediction using Bi-LSTM </h1>\n"
   ],
   "cell_type": "markdown",
   "metadata": {}
  },
  {
   "source": [
    "load packages"
   ],
   "cell_type": "markdown",
   "metadata": {}
  },
  {
   "cell_type": "code",
   "execution_count": 1,
   "metadata": {},
   "outputs": [],
   "source": [
    "import pandas as pd\n",
    "import numpy as np\n",
    "\n",
    "from sklearn import model_selection\n",
    "from tensorflow.keras import Model\n",
    "from keras.models import Sequential\n",
    "from keras.layers import Dense, Input\n",
    "from keras.layers import LSTM, Bidirectional\n",
    "from keras.layers import Concatenate\n",
    "from keras.layers.embeddings import Embedding\n",
    "from keras.preprocessing import sequence\n",
    "from tensorflow.keras.callbacks import EarlyStopping\n",
    "\n",
    "import matplotlib.pyplot as plt\n",
    "\n",
    "from sklearn.metrics import confusion_matrix"
   ]
  },
  {
   "source": [],
   "cell_type": "markdown",
   "metadata": {}
  },
  {
   "source": [
    "<h2>1. Data Preparation</h2>"
   ],
   "cell_type": "markdown",
   "metadata": {}
  },
  {
   "source": [
    "PrimerROC data with 319 pairs and binary label for dimer (dimer formation if 1, otherwise 0)"
   ],
   "cell_type": "markdown",
   "metadata": {}
  },
  {
   "cell_type": "code",
   "execution_count": 2,
   "metadata": {},
   "outputs": [
    {
     "output_type": "execute_result",
     "data": {
      "text/plain": [
       "                                           primer1  \\\n",
       "0                        AGCATTGTGGGTAGTAAGGTATAAA   \n",
       "1                          AGCGTGGTTATTGGATGGGTTTG   \n",
       "2                          AGCGGTAAGTGTTTAGGATGGTT   \n",
       "3                             AGCCCCAAAACACCCCCACT   \n",
       "4                        AGCAAACTATCCAATCAAACACACA   \n",
       "..                                             ...   \n",
       "314                        AGCTTAAAAATGGGGTGGGGTAG   \n",
       "315      GACCTCAACGCACAGTACGATTTCCAACCCAATTTTCCAAC   \n",
       "316                        AGCACCAATATAAATCCCCACCC   \n",
       "317  GACCTCAACGCACAGTACGATGATTAATAAGTGTTTTTTGTTGTG   \n",
       "318        GACCTCAACGCACAGTACGAGTTTAGGTATAGGAGGGAG   \n",
       "\n",
       "                                          primer2  label  \n",
       "0                        AGCTCAAAATCTACATAACCCCTC      0  \n",
       "1                  AGCAAATCTTTACTAAAAAAAATTTACCTT      0  \n",
       "2                          AGCATCACAAAACCCCTCCCTT      0  \n",
       "3                         AGCGGGTTAAAGAGAAGAAGGTT      0  \n",
       "4                         AGCGAGGATATAGAGTAGTGAAG      0  \n",
       "..                                            ...    ...  \n",
       "314                        AGCCCAATATAAATCCCCACCC      1  \n",
       "315  CGTCACTGAAACCACCGGAATAAATGTTTTGGAGAGTTTAAGTG      1  \n",
       "316                        AGCAAAAATGGGGTGGGGTAGG      1  \n",
       "317     CGTCACTGAAACCACCGGAACTCAACTTACCACAATAAACC      1  \n",
       "318         CGTCACTGAAACCACCGGAACCTCTCCTTCCAACCCA      1  \n",
       "\n",
       "[319 rows x 3 columns]"
      ],
      "text/html": "<div>\n<style scoped>\n    .dataframe tbody tr th:only-of-type {\n        vertical-align: middle;\n    }\n\n    .dataframe tbody tr th {\n        vertical-align: top;\n    }\n\n    .dataframe thead th {\n        text-align: right;\n    }\n</style>\n<table border=\"1\" class=\"dataframe\">\n  <thead>\n    <tr style=\"text-align: right;\">\n      <th></th>\n      <th>primer1</th>\n      <th>primer2</th>\n      <th>label</th>\n    </tr>\n  </thead>\n  <tbody>\n    <tr>\n      <th>0</th>\n      <td>AGCATTGTGGGTAGTAAGGTATAAA</td>\n      <td>AGCTCAAAATCTACATAACCCCTC</td>\n      <td>0</td>\n    </tr>\n    <tr>\n      <th>1</th>\n      <td>AGCGTGGTTATTGGATGGGTTTG</td>\n      <td>AGCAAATCTTTACTAAAAAAAATTTACCTT</td>\n      <td>0</td>\n    </tr>\n    <tr>\n      <th>2</th>\n      <td>AGCGGTAAGTGTTTAGGATGGTT</td>\n      <td>AGCATCACAAAACCCCTCCCTT</td>\n      <td>0</td>\n    </tr>\n    <tr>\n      <th>3</th>\n      <td>AGCCCCAAAACACCCCCACT</td>\n      <td>AGCGGGTTAAAGAGAAGAAGGTT</td>\n      <td>0</td>\n    </tr>\n    <tr>\n      <th>4</th>\n      <td>AGCAAACTATCCAATCAAACACACA</td>\n      <td>AGCGAGGATATAGAGTAGTGAAG</td>\n      <td>0</td>\n    </tr>\n    <tr>\n      <th>...</th>\n      <td>...</td>\n      <td>...</td>\n      <td>...</td>\n    </tr>\n    <tr>\n      <th>314</th>\n      <td>AGCTTAAAAATGGGGTGGGGTAG</td>\n      <td>AGCCCAATATAAATCCCCACCC</td>\n      <td>1</td>\n    </tr>\n    <tr>\n      <th>315</th>\n      <td>GACCTCAACGCACAGTACGATTTCCAACCCAATTTTCCAAC</td>\n      <td>CGTCACTGAAACCACCGGAATAAATGTTTTGGAGAGTTTAAGTG</td>\n      <td>1</td>\n    </tr>\n    <tr>\n      <th>316</th>\n      <td>AGCACCAATATAAATCCCCACCC</td>\n      <td>AGCAAAAATGGGGTGGGGTAGG</td>\n      <td>1</td>\n    </tr>\n    <tr>\n      <th>317</th>\n      <td>GACCTCAACGCACAGTACGATGATTAATAAGTGTTTTTTGTTGTG</td>\n      <td>CGTCACTGAAACCACCGGAACTCAACTTACCACAATAAACC</td>\n      <td>1</td>\n    </tr>\n    <tr>\n      <th>318</th>\n      <td>GACCTCAACGCACAGTACGAGTTTAGGTATAGGAGGGAG</td>\n      <td>CGTCACTGAAACCACCGGAACCTCTCCTTCCAACCCA</td>\n      <td>1</td>\n    </tr>\n  </tbody>\n</table>\n<p>319 rows × 3 columns</p>\n</div>"
     },
     "metadata": {},
     "execution_count": 2
    }
   ],
   "source": [
    "example_pd = pd.read_csv(\"C:/Users/user/Downloads/example_pd.csv\")\n",
    "example_pd"
   ]
  },
  {
   "cell_type": "code",
   "execution_count": 3,
   "metadata": {},
   "outputs": [
    {
     "output_type": "execute_result",
     "data": {
      "text/plain": [
       "0    267\n",
       "1     52\n",
       "Name: label, dtype: int64"
      ]
     },
     "metadata": {},
     "execution_count": 3
    }
   ],
   "source": [
    "example_pd[\"label\"].value_counts()"
   ]
  },
  {
   "source": [],
   "cell_type": "markdown",
   "metadata": {}
  },
  {
   "source": [
    "over-sampling"
   ],
   "cell_type": "markdown",
   "metadata": {}
  },
  {
   "cell_type": "code",
   "execution_count": 4,
   "metadata": {},
   "outputs": [],
   "source": [
    "from imblearn.over_sampling import RandomOverSampler\n",
    "X = example_pd[[\"primer1\", \"primer2\"]]\n",
    "y = example_pd[\"label\"]\n",
    "ros = RandomOverSampler(random_state=0)\n",
    "X, y = ros.fit_resample(X, y)"
   ]
  },
  {
   "cell_type": "code",
   "execution_count": 5,
   "metadata": {},
   "outputs": [
    {
     "output_type": "execute_result",
     "data": {
      "text/plain": [
       "                                           primer1  \\\n",
       "0                        AGCATTGTGGGTAGTAAGGTATAAA   \n",
       "1                          AGCGTGGTTATTGGATGGGTTTG   \n",
       "2                          AGCGGTAAGTGTTTAGGATGGTT   \n",
       "3                             AGCCCCAAAACACCCCCACT   \n",
       "4                        AGCAAACTATCCAATCAAACACACA   \n",
       "..                                             ...   \n",
       "529                      AGCCTAAACTTTTTAACCCTTTCCT   \n",
       "530  GACCTCAACGCACAGTACGAATACTTCTTAAAAAAATAACCTTCT   \n",
       "531        GACCTCAACGCACAGTACGAATTAGGTAGAGGTGGGTGG   \n",
       "532     GTCATGCGCCCCATAATTTGTTTTTGTAATTGTTTTAGTAAA   \n",
       "533            GTCATGCGCCCCATGATTGAGTTTATTTTGTGGGG   \n",
       "\n",
       "                                           primer2  \n",
       "0                         AGCTCAAAATCTACATAACCCCTC  \n",
       "1                   AGCAAATCTTTACTAAAAAAAATTTACCTT  \n",
       "2                           AGCATCACAAAACCCCTCCCTT  \n",
       "3                          AGCGGGTTAAAGAGAAGAAGGTT  \n",
       "4                          AGCGAGGATATAGAGTAGTGAAG  \n",
       "..                                             ...  \n",
       "529                        AGCTTTTGAGTGAAGGAAGGGAA  \n",
       "530  CGTCACTGAAACCACCGGAAAAGAAAATAGGTTTTTGGTTTTAAA  \n",
       "531     CGTCACTGAAACCACCGGAAAAAAAAACAATCCCTTTCCCTA  \n",
       "532       CTCGGACGCACCCATCTAATATCTTCACATATCAATATAT  \n",
       "533        CTCGGACGCACCCAACCTTTACTCTTCAAAATAAAAACA  \n",
       "\n",
       "[534 rows x 2 columns]"
      ],
      "text/html": "<div>\n<style scoped>\n    .dataframe tbody tr th:only-of-type {\n        vertical-align: middle;\n    }\n\n    .dataframe tbody tr th {\n        vertical-align: top;\n    }\n\n    .dataframe thead th {\n        text-align: right;\n    }\n</style>\n<table border=\"1\" class=\"dataframe\">\n  <thead>\n    <tr style=\"text-align: right;\">\n      <th></th>\n      <th>primer1</th>\n      <th>primer2</th>\n    </tr>\n  </thead>\n  <tbody>\n    <tr>\n      <th>0</th>\n      <td>AGCATTGTGGGTAGTAAGGTATAAA</td>\n      <td>AGCTCAAAATCTACATAACCCCTC</td>\n    </tr>\n    <tr>\n      <th>1</th>\n      <td>AGCGTGGTTATTGGATGGGTTTG</td>\n      <td>AGCAAATCTTTACTAAAAAAAATTTACCTT</td>\n    </tr>\n    <tr>\n      <th>2</th>\n      <td>AGCGGTAAGTGTTTAGGATGGTT</td>\n      <td>AGCATCACAAAACCCCTCCCTT</td>\n    </tr>\n    <tr>\n      <th>3</th>\n      <td>AGCCCCAAAACACCCCCACT</td>\n      <td>AGCGGGTTAAAGAGAAGAAGGTT</td>\n    </tr>\n    <tr>\n      <th>4</th>\n      <td>AGCAAACTATCCAATCAAACACACA</td>\n      <td>AGCGAGGATATAGAGTAGTGAAG</td>\n    </tr>\n    <tr>\n      <th>...</th>\n      <td>...</td>\n      <td>...</td>\n    </tr>\n    <tr>\n      <th>529</th>\n      <td>AGCCTAAACTTTTTAACCCTTTCCT</td>\n      <td>AGCTTTTGAGTGAAGGAAGGGAA</td>\n    </tr>\n    <tr>\n      <th>530</th>\n      <td>GACCTCAACGCACAGTACGAATACTTCTTAAAAAAATAACCTTCT</td>\n      <td>CGTCACTGAAACCACCGGAAAAGAAAATAGGTTTTTGGTTTTAAA</td>\n    </tr>\n    <tr>\n      <th>531</th>\n      <td>GACCTCAACGCACAGTACGAATTAGGTAGAGGTGGGTGG</td>\n      <td>CGTCACTGAAACCACCGGAAAAAAAAACAATCCCTTTCCCTA</td>\n    </tr>\n    <tr>\n      <th>532</th>\n      <td>GTCATGCGCCCCATAATTTGTTTTTGTAATTGTTTTAGTAAA</td>\n      <td>CTCGGACGCACCCATCTAATATCTTCACATATCAATATAT</td>\n    </tr>\n    <tr>\n      <th>533</th>\n      <td>GTCATGCGCCCCATGATTGAGTTTATTTTGTGGGG</td>\n      <td>CTCGGACGCACCCAACCTTTACTCTTCAAAATAAAAACA</td>\n    </tr>\n  </tbody>\n</table>\n<p>534 rows × 2 columns</p>\n</div>"
     },
     "metadata": {},
     "execution_count": 5
    }
   ],
   "source": [
    "X"
   ]
  },
  {
   "cell_type": "code",
   "execution_count": 6,
   "metadata": {},
   "outputs": [
    {
     "output_type": "execute_result",
     "data": {
      "text/plain": [
       "0    267\n",
       "1    267\n",
       "Name: label, dtype: int64"
      ]
     },
     "metadata": {},
     "execution_count": 6
    }
   ],
   "source": [
    "y.value_counts()"
   ]
  },
  {
   "cell_type": "code",
   "execution_count": 7,
   "metadata": {},
   "outputs": [],
   "source": [
    "example_pd_temp = pd.DataFrame()\n",
    "example_pd_temp[[\"primer1\", \"primer2\"]] = X"
   ]
  },
  {
   "cell_type": "code",
   "execution_count": null,
   "metadata": {},
   "outputs": [],
   "source": []
  },
  {
   "cell_type": "code",
   "execution_count": null,
   "metadata": {},
   "outputs": [],
   "source": []
  },
  {
   "source": [
    "integer encoding for sequences"
   ],
   "cell_type": "markdown",
   "metadata": {}
  },
  {
   "cell_type": "code",
   "execution_count": null,
   "metadata": {},
   "outputs": [],
   "source": []
  },
  {
   "cell_type": "code",
   "execution_count": 8,
   "metadata": {},
   "outputs": [],
   "source": [
    "\n",
    "nucleotide = {}\n",
    "nucleotide[\"A\"] = 0\n",
    "nucleotide[\"C\"] = 1\n",
    "nucleotide[\"G\"] = 2\n",
    "nucleotide[\"T\"] = 3\n",
    "\n",
    "X1 = [[nucleotide[s] for s in x] for x in example_pd_temp[\"primer1\"]]\n",
    "X2 = [[nucleotide[s] for s in x] for x in example_pd_temp[\"primer2\"]]\n"
   ]
  },
  {
   "source": [
    "truncate and pad input sequences"
   ],
   "cell_type": "markdown",
   "metadata": {}
  },
  {
   "cell_type": "code",
   "execution_count": 9,
   "metadata": {},
   "outputs": [],
   "source": [
    "max_length= 50\n",
    "X1 = sequence.pad_sequences(X1, maxlen=max_length)\n",
    "X2 = sequence.pad_sequences(X2, maxlen=max_length)"
   ]
  },
  {
   "source": [
    "binary response variable"
   ],
   "cell_type": "markdown",
   "metadata": {}
  },
  {
   "cell_type": "code",
   "execution_count": 10,
   "metadata": {},
   "outputs": [],
   "source": [
    "y = y.values"
   ]
  },
  {
   "source": [],
   "cell_type": "markdown",
   "metadata": {}
  },
  {
   "source": [
    "<h2>2. Model</h2>"
   ],
   "cell_type": "markdown",
   "metadata": {}
  },
  {
   "source": [
    "define model"
   ],
   "cell_type": "markdown",
   "metadata": {}
  },
  {
   "cell_type": "code",
   "execution_count": 11,
   "metadata": {},
   "outputs": [],
   "source": [
    "\n",
    "def Bi_LSTM():\n",
    "    num_nt = 4\n",
    "    # create the model\n",
    "    embedding_vecor_length = 32\n",
    "    inp1 = Input(shape=(max_length,))  \n",
    "    x1 = Embedding(num_nt, embedding_vecor_length, input_length=max_length)(inp1)\n",
    "    x1 = Bidirectional(LSTM(100))(x1)\n",
    "\n",
    "    inp2 = Input(shape=(max_length,))  \n",
    "    x2 = Embedding(num_nt, embedding_vecor_length, input_length=max_length)(inp2)\n",
    "    x2 = Bidirectional(LSTM(100))(x2)\n",
    "\n",
    "    x = Concatenate()([x1, x2])\n",
    "\n",
    "    x = Dense(1, activation='sigmoid')(x)\n",
    "    model = Model(inputs = [inp1, inp2], outputs = x)\n",
    "    model.compile(loss='binary_crossentropy', optimizer='adam', metrics=['acc'])\n",
    "    return model\n"
   ]
  },
  {
   "source": [
    "initialize the model"
   ],
   "cell_type": "markdown",
   "metadata": {}
  },
  {
   "cell_type": "code",
   "execution_count": 12,
   "metadata": {},
   "outputs": [],
   "source": [
    "model = Bi_LSTM()"
   ]
  },
  {
   "source": [
    "fit model with early stopping, the same to the train and val data"
   ],
   "cell_type": "markdown",
   "metadata": {}
  },
  {
   "cell_type": "code",
   "execution_count": 13,
   "metadata": {},
   "outputs": [
    {
     "output_type": "stream",
     "name": "stdout",
     "text": [
      "Epoch 1/100\n",
      "17/17 [==============================] - 14s 355ms/step - loss: 0.6911 - acc: 0.5018 - val_loss: 0.6357 - val_acc: 0.7603\n",
      "Epoch 2/100\n",
      "17/17 [==============================] - 2s 134ms/step - loss: 0.6112 - acc: 0.6889 - val_loss: 0.5481 - val_acc: 0.7322\n",
      "Epoch 3/100\n",
      "17/17 [==============================] - 2s 111ms/step - loss: 0.5466 - acc: 0.7475 - val_loss: 0.5660 - val_acc: 0.7547\n",
      "Epoch 4/100\n",
      "17/17 [==============================] - 2s 110ms/step - loss: 0.5483 - acc: 0.7644 - val_loss: 0.5539 - val_acc: 0.7434\n",
      "Epoch 5/100\n",
      "17/17 [==============================] - 2s 110ms/step - loss: 0.5573 - acc: 0.7402 - val_loss: 0.5604 - val_acc: 0.7509\n",
      "Epoch 6/100\n",
      "17/17 [==============================] - 2s 116ms/step - loss: 0.5617 - acc: 0.7374 - val_loss: 0.5499 - val_acc: 0.7453\n",
      "Epoch 7/100\n",
      "17/17 [==============================] - 2s 108ms/step - loss: 0.5376 - acc: 0.7439 - val_loss: 0.5486 - val_acc: 0.7566\n",
      "Epoch 8/100\n",
      "17/17 [==============================] - 2s 109ms/step - loss: 0.5519 - acc: 0.7487 - val_loss: 0.5423 - val_acc: 0.7547\n",
      "Epoch 9/100\n",
      "17/17 [==============================] - 2s 107ms/step - loss: 0.5236 - acc: 0.7863 - val_loss: 0.5454 - val_acc: 0.7528\n",
      "Epoch 10/100\n",
      "17/17 [==============================] - 2s 108ms/step - loss: 0.5608 - acc: 0.7493 - val_loss: 0.5153 - val_acc: 0.7584\n",
      "Epoch 11/100\n",
      "17/17 [==============================] - 2s 114ms/step - loss: 0.5403 - acc: 0.7232 - val_loss: 0.5475 - val_acc: 0.7528\n"
     ]
    }
   ],
   "source": [
    "es = EarlyStopping(monitor=\"val_acc\", min_delta=0, patience=10,restore_best_weights=True)\n",
    "\n",
    "history = model.fit([X1, X2], y, epochs=100, batch_size=32, validation_data = ([X1, X2], y), callbacks=[es])"
   ]
  },
  {
   "source": [
    "confusion matrix"
   ],
   "cell_type": "markdown",
   "metadata": {}
  },
  {
   "cell_type": "code",
   "execution_count": 14,
   "metadata": {},
   "outputs": [
    {
     "output_type": "execute_result",
     "data": {
      "text/plain": [
       "array([[189,  78],\n",
       "       [ 50, 217]], dtype=int64)"
      ]
     },
     "metadata": {},
     "execution_count": 14
    }
   ],
   "source": [
    "y_hat = model.predict([X1, X2])\n",
    "y_hat = y_hat > 0.5\n",
    "confusion_matrix(y, y_hat)"
   ]
  },
  {
   "source": [
    "model architecture"
   ],
   "cell_type": "markdown",
   "metadata": {}
  },
  {
   "cell_type": "code",
   "execution_count": 15,
   "metadata": {},
   "outputs": [
    {
     "output_type": "execute_result",
     "data": {
      "image/png": "[encoded data removed]",
      "text/plain": [
       "<IPython.core.display.Image object>"
      ]
     },
     "metadata": {},
     "execution_count": 15
    }
   ],
   "source": [
    "import os\n",
    "os.environ[\"PATH\"] += os.pathsep + 'C:/Program Files/Graphviz/bin/'\n",
    "\n",
    "from keras.utils.vis_utils import plot_model    \n",
    "plot_model(model, show_shapes=True, show_layer_names=True)"
   ]
  },
  {
   "source": [],
   "cell_type": "markdown",
   "metadata": {}
  },
  {
   "source": [
    "<h2>3. Validation</h2>"
   ],
   "cell_type": "markdown",
   "metadata": {}
  },
  {
   "source": [
    "repeated k-fold cross validation"
   ],
   "cell_type": "markdown",
   "metadata": {}
  },
  {
   "cell_type": "code",
   "execution_count": 16,
   "metadata": {},
   "outputs": [
    {
     "output_type": "stream",
     "name": "stdout",
     "text": [
      "Training and evaluating on fold 1 out of 50...\n",
      "Training and evaluating on fold 2 out of 50...\n",
      "Training and evaluating on fold 3 out of 50...\n",
      "Training and evaluating on fold 4 out of 50...\n",
      "Training and evaluating on fold 5 out of 50...\n",
      "Training and evaluating on fold 6 out of 50...\n",
      "Training and evaluating on fold 7 out of 50...\n",
      "Training and evaluating on fold 8 out of 50...\n",
      "Training and evaluating on fold 9 out of 50...\n",
      "Training and evaluating on fold 10 out of 50...\n",
      "Training and evaluating on fold 11 out of 50...\n",
      "Training and evaluating on fold 12 out of 50...\n",
      "Training and evaluating on fold 13 out of 50...\n",
      "Training and evaluating on fold 14 out of 50...\n",
      "Training and evaluating on fold 15 out of 50...\n",
      "Training and evaluating on fold 16 out of 50...\n",
      "Training and evaluating on fold 17 out of 50...\n",
      "Training and evaluating on fold 18 out of 50...\n",
      "Training and evaluating on fold 19 out of 50...\n",
      "Training and evaluating on fold 20 out of 50...\n",
      "Training and evaluating on fold 21 out of 50...\n",
      "Training and evaluating on fold 22 out of 50...\n",
      "Training and evaluating on fold 23 out of 50...\n",
      "Training and evaluating on fold 24 out of 50...\n",
      "Training and evaluating on fold 25 out of 50...\n",
      "Training and evaluating on fold 26 out of 50...\n",
      "Training and evaluating on fold 27 out of 50...\n",
      "Training and evaluating on fold 28 out of 50...\n",
      "Training and evaluating on fold 29 out of 50...\n",
      "Training and evaluating on fold 30 out of 50...\n",
      "Training and evaluating on fold 31 out of 50...\n",
      "Training and evaluating on fold 32 out of 50...\n",
      "Training and evaluating on fold 33 out of 50...\n",
      "Training and evaluating on fold 34 out of 50...\n",
      "Training and evaluating on fold 35 out of 50...\n",
      "Training and evaluating on fold 36 out of 50...\n",
      "Training and evaluating on fold 37 out of 50...\n",
      "Training and evaluating on fold 38 out of 50...\n",
      "Training and evaluating on fold 39 out of 50...\n",
      "Training and evaluating on fold 40 out of 50...\n",
      "Training and evaluating on fold 41 out of 50...\n",
      "Training and evaluating on fold 42 out of 50...\n",
      "Training and evaluating on fold 43 out of 50...\n",
      "Training and evaluating on fold 44 out of 50...\n",
      "Training and evaluating on fold 45 out of 50...\n",
      "Training and evaluating on fold 46 out of 50...\n",
      "Training and evaluating on fold 47 out of 50...\n",
      "Training and evaluating on fold 48 out of 50...\n",
      "Training and evaluating on fold 49 out of 50...\n",
      "Training and evaluating on fold 50 out of 50...\n"
     ]
    }
   ],
   "source": [
    "epochs = 100  # maximum number of training epochs\n",
    "folds = 10  # the number of folds for k-fold cross validation\n",
    "n_repeats = 5  # the number of repeats for repeated k-fold cross validation\n",
    "\n",
    "stratified_folds = model_selection.RepeatedStratifiedKFold(n_splits=folds, n_repeats=n_repeats).split(y, y)\n",
    "\n",
    "for i, (train_index, test_index) in enumerate(stratified_folds):\n",
    "    print(f\"Training and evaluating on fold {i+1} out of {folds * n_repeats}...\")\n",
    "    train_X1, test_X1 = X1[train_index], X1[test_index]\n",
    "    train_X2, test_X2 = X2[train_index], X2[test_index]\n",
    "    train_y, test_y = y[train_index], y[test_index]\n",
    "    \n",
    "    model = Bi_LSTM()\n",
    "    \n",
    "    history = model.fit([train_X1, train_X2], train_y, epochs=epochs, validation_data=([test_X1, test_X2], test_y), verbose=0, callbacks=[es])\n",
    "    \n",
    "# calculate performance on the test data and return along with history\n",
    "test_accs = history.history[\"val_acc\"]"
   ]
  },
  {
   "source": [
    "overall accuracy"
   ],
   "cell_type": "markdown",
   "metadata": {}
  },
  {
   "cell_type": "code",
   "execution_count": 17,
   "metadata": {},
   "outputs": [
    {
     "output_type": "stream",
     "name": "stdout",
     "text": [
      "Accuracy over all folds mean: 74.7% and std: 2.2%\n"
     ]
    }
   ],
   "source": [
    "print(f\"Accuracy over all folds mean: {np.mean(test_accs)*100:.3}% and std: {np.std(test_accs)*100:.2}%\")"
   ]
  },
  {
   "source": [
    "distribution of accuracy"
   ],
   "cell_type": "markdown",
   "metadata": {}
  },
  {
   "cell_type": "code",
   "execution_count": 18,
   "metadata": {},
   "outputs": [
    {
     "output_type": "execute_result",
     "data": {
      "text/plain": [
       "Text(0, 0.5, 'Count')"
      ]
     },
     "metadata": {},
     "execution_count": 18
    },
    {
     "output_type": "display_data",
     "data": {
      "text/plain": "<Figure size 576x432 with 1 Axes>",
      "image/svg+xml": "<?xml version=\"1.0\" encoding=\"utf-8\" standalone=\"no\"?>\r\n<!DOCTYPE svg PUBLIC \"-//W3C//DTD SVG 1.1//EN\"\r\n  \"http://www.w3.org/Graphics/SVG/1.1/DTD/svg11.dtd\">\r\n<!-- Created with matplotlib (https://matplotlib.org/) -->\r\n<svg height=\"370.91625pt\" version=\"1.1\" viewBox=\"0 0 487.840625 370.91625\" width=\"487.840625pt\" xmlns=\"http://www.w3.org/2000/svg\" xmlns:xlink=\"http://www.w3.org/1999/xlink\">\r\n <metadata>\r\n  <rdf:RDF xmlns:cc=\"http://creativecommons.org/ns#\" xmlns:dc=\"http://purl.org/dc/elements/1.1/\" xmlns:rdf=\"http://www.w3.org/1999/02/22-rdf-syntax-ns#\">\r\n   <cc:Work>\r\n    <dc:type rdf:resource=\"http://purl.org/dc/dcmitype/StillImage\"/>\r\n    <dc:date>2021-06-29T14:02:32.057306</dc:date>\r\n    <dc:format>image/svg+xml</dc:format>\r\n    <dc:creator>\r\n     <cc:Agent>\r\n      <dc:title>Matplotlib v3.3.4, https://matplotlib.org/</dc:title>\r\n     </cc:Agent>\r\n    </dc:creator>\r\n   </cc:Work>\r\n  </rdf:RDF>\r\n </metadata>\r\n <defs>\r\n  <style type=\"text/css\">*{stroke-linecap:butt;stroke-linejoin:round;}</style>\r\n </defs>\r\n <g id=\"figure_1\">\r\n  <g id=\"patch_1\">\r\n   <path d=\"M 0 370.91625 \r\nL 487.840625 370.91625 \r\nL 487.840625 0 \r\nL 0 0 \r\nz\r\n\" style=\"fill:none;\"/>\r\n  </g>\r\n  <g id=\"axes_1\">\r\n   <g id=\"patch_2\">\r\n    <path d=\"M 34.240625 333.36 \r\nL 480.640625 333.36 \r\nL 480.640625 7.2 \r\nL 34.240625 7.2 \r\nz\r\n\" style=\"fill:#ffffff;\"/>\r\n   </g>\r\n   <g id=\"patch_3\">\r\n    <path clip-path=\"url(#p6eed0747c5)\" d=\"M 54.531534 333.36 \r\nL 95.113352 333.36 \r\nL 95.113352 298.845714 \r\nL 54.531534 298.845714 \r\nz\r\n\" style=\"fill:#1f77b4;\"/>\r\n   </g>\r\n   <g id=\"patch_4\">\r\n    <path clip-path=\"url(#p6eed0747c5)\" d=\"M 95.113352 333.36 \r\nL 135.69517 333.36 \r\nL 135.69517 333.36 \r\nL 95.113352 333.36 \r\nz\r\n\" style=\"fill:#1f77b4;\"/>\r\n   </g>\r\n   <g id=\"patch_5\">\r\n    <path clip-path=\"url(#p6eed0747c5)\" d=\"M 135.69517 333.36 \r\nL 176.276989 333.36 \r\nL 176.276989 22.731429 \r\nL 135.69517 22.731429 \r\nz\r\n\" style=\"fill:#1f77b4;\"/>\r\n   </g>\r\n   <g id=\"patch_6\">\r\n    <path clip-path=\"url(#p6eed0747c5)\" d=\"M 176.276989 333.36 \r\nL 216.858807 333.36 \r\nL 216.858807 333.36 \r\nL 176.276989 333.36 \r\nz\r\n\" style=\"fill:#1f77b4;\"/>\r\n   </g>\r\n   <g id=\"patch_7\">\r\n    <path clip-path=\"url(#p6eed0747c5)\" d=\"M 216.858807 333.36 \r\nL 257.440625 333.36 \r\nL 257.440625 333.36 \r\nL 216.858807 333.36 \r\nz\r\n\" style=\"fill:#1f77b4;\"/>\r\n   </g>\r\n   <g id=\"patch_8\">\r\n    <path clip-path=\"url(#p6eed0747c5)\" d=\"M 257.440625 333.36 \r\nL 298.022443 333.36 \r\nL 298.022443 298.845714 \r\nL 257.440625 298.845714 \r\nz\r\n\" style=\"fill:#1f77b4;\"/>\r\n   </g>\r\n   <g id=\"patch_9\">\r\n    <path clip-path=\"url(#p6eed0747c5)\" d=\"M 298.022443 333.36 \r\nL 338.604261 333.36 \r\nL 338.604261 333.36 \r\nL 298.022443 333.36 \r\nz\r\n\" style=\"fill:#1f77b4;\"/>\r\n   </g>\r\n   <g id=\"patch_10\">\r\n    <path clip-path=\"url(#p6eed0747c5)\" d=\"M 338.604261 333.36 \r\nL 379.18608 333.36 \r\nL 379.18608 298.845714 \r\nL 338.604261 298.845714 \r\nz\r\n\" style=\"fill:#1f77b4;\"/>\r\n   </g>\r\n   <g id=\"patch_11\">\r\n    <path clip-path=\"url(#p6eed0747c5)\" d=\"M 379.18608 333.36 \r\nL 419.767898 333.36 \r\nL 419.767898 333.36 \r\nL 379.18608 333.36 \r\nz\r\n\" style=\"fill:#1f77b4;\"/>\r\n   </g>\r\n   <g id=\"patch_12\">\r\n    <path clip-path=\"url(#p6eed0747c5)\" d=\"M 419.767898 333.36 \r\nL 460.349716 333.36 \r\nL 460.349716 264.331429 \r\nL 419.767898 264.331429 \r\nz\r\n\" style=\"fill:#1f77b4;\"/>\r\n   </g>\r\n   <g id=\"matplotlib.axis_1\">\r\n    <g id=\"xtick_1\">\r\n     <g id=\"line2d_1\">\r\n      <defs>\r\n       <path d=\"M 0 0 \r\nL 0 3.5 \r\n\" id=\"mc287187135\" style=\"stroke:#000000;stroke-width:0.8;\"/>\r\n      </defs>\r\n      <g>\r\n       <use style=\"stroke:#000000;stroke-width:0.8;\" x=\"70.764364\" xlink:href=\"#mc287187135\" y=\"333.36\"/>\r\n      </g>\r\n     </g>\r\n     <g id=\"text_1\">\r\n      <!-- 0.72 -->\r\n      <g transform=\"translate(59.631551 347.958438)scale(0.1 -0.1)\">\r\n       <defs>\r\n        <path d=\"M 31.78125 66.40625 \r\nQ 24.171875 66.40625 20.328125 58.90625 \r\nQ 16.5 51.421875 16.5 36.375 \r\nQ 16.5 21.390625 20.328125 13.890625 \r\nQ 24.171875 6.390625 31.78125 6.390625 \r\nQ 39.453125 6.390625 43.28125 13.890625 \r\nQ 47.125 21.390625 47.125 36.375 \r\nQ 47.125 51.421875 43.28125 58.90625 \r\nQ 39.453125 66.40625 31.78125 66.40625 \r\nz\r\nM 31.78125 74.21875 \r\nQ 44.046875 74.21875 50.515625 64.515625 \r\nQ 56.984375 54.828125 56.984375 36.375 \r\nQ 56.984375 17.96875 50.515625 8.265625 \r\nQ 44.046875 -1.421875 31.78125 -1.421875 \r\nQ 19.53125 -1.421875 13.0625 8.265625 \r\nQ 6.59375 17.96875 6.59375 36.375 \r\nQ 6.59375 54.828125 13.0625 64.515625 \r\nQ 19.53125 74.21875 31.78125 74.21875 \r\nz\r\n\" id=\"DejaVuSans-48\"/>\r\n        <path d=\"M 10.6875 12.40625 \r\nL 21 12.40625 \r\nL 21 0 \r\nL 10.6875 0 \r\nz\r\n\" id=\"DejaVuSans-46\"/>\r\n        <path d=\"M 8.203125 72.90625 \r\nL 55.078125 72.90625 \r\nL 55.078125 68.703125 \r\nL 28.609375 0 \r\nL 18.3125 0 \r\nL 43.21875 64.59375 \r\nL 8.203125 64.59375 \r\nz\r\n\" id=\"DejaVuSans-55\"/>\r\n        <path d=\"M 19.1875 8.296875 \r\nL 53.609375 8.296875 \r\nL 53.609375 0 \r\nL 7.328125 0 \r\nL 7.328125 8.296875 \r\nQ 12.9375 14.109375 22.625 23.890625 \r\nQ 32.328125 33.6875 34.8125 36.53125 \r\nQ 39.546875 41.84375 41.421875 45.53125 \r\nQ 43.3125 49.21875 43.3125 52.78125 \r\nQ 43.3125 58.59375 39.234375 62.25 \r\nQ 35.15625 65.921875 28.609375 65.921875 \r\nQ 23.96875 65.921875 18.8125 64.3125 \r\nQ 13.671875 62.703125 7.8125 59.421875 \r\nL 7.8125 69.390625 \r\nQ 13.765625 71.78125 18.9375 73 \r\nQ 24.125 74.21875 28.421875 74.21875 \r\nQ 39.75 74.21875 46.484375 68.546875 \r\nQ 53.21875 62.890625 53.21875 53.421875 \r\nQ 53.21875 48.921875 51.53125 44.890625 \r\nQ 49.859375 40.875 45.40625 35.40625 \r\nQ 44.1875 33.984375 37.640625 27.21875 \r\nQ 31.109375 20.453125 19.1875 8.296875 \r\nz\r\n\" id=\"DejaVuSans-50\"/>\r\n       </defs>\r\n       <use xlink:href=\"#DejaVuSans-48\"/>\r\n       <use x=\"63.623047\" xlink:href=\"#DejaVuSans-46\"/>\r\n       <use x=\"95.410156\" xlink:href=\"#DejaVuSans-55\"/>\r\n       <use x=\"159.033203\" xlink:href=\"#DejaVuSans-50\"/>\r\n      </g>\r\n     </g>\r\n    </g>\r\n    <g id=\"xtick_2\">\r\n     <g id=\"line2d_2\">\r\n      <g>\r\n       <use style=\"stroke:#000000;stroke-width:0.8;\" x=\"124.535272\" xlink:href=\"#mc287187135\" y=\"333.36\"/>\r\n      </g>\r\n     </g>\r\n     <g id=\"text_2\">\r\n      <!-- 0.73 -->\r\n      <g transform=\"translate(113.40246 347.958438)scale(0.1 -0.1)\">\r\n       <defs>\r\n        <path d=\"M 40.578125 39.3125 \r\nQ 47.65625 37.796875 51.625 33 \r\nQ 55.609375 28.21875 55.609375 21.1875 \r\nQ 55.609375 10.40625 48.1875 4.484375 \r\nQ 40.765625 -1.421875 27.09375 -1.421875 \r\nQ 22.515625 -1.421875 17.65625 -0.515625 \r\nQ 12.796875 0.390625 7.625 2.203125 \r\nL 7.625 11.71875 \r\nQ 11.71875 9.328125 16.59375 8.109375 \r\nQ 21.484375 6.890625 26.8125 6.890625 \r\nQ 36.078125 6.890625 40.9375 10.546875 \r\nQ 45.796875 14.203125 45.796875 21.1875 \r\nQ 45.796875 27.640625 41.28125 31.265625 \r\nQ 36.765625 34.90625 28.71875 34.90625 \r\nL 20.21875 34.90625 \r\nL 20.21875 43.015625 \r\nL 29.109375 43.015625 \r\nQ 36.375 43.015625 40.234375 45.921875 \r\nQ 44.09375 48.828125 44.09375 54.296875 \r\nQ 44.09375 59.90625 40.109375 62.90625 \r\nQ 36.140625 65.921875 28.71875 65.921875 \r\nQ 24.65625 65.921875 20.015625 65.03125 \r\nQ 15.375 64.15625 9.8125 62.3125 \r\nL 9.8125 71.09375 \r\nQ 15.4375 72.65625 20.34375 73.4375 \r\nQ 25.25 74.21875 29.59375 74.21875 \r\nQ 40.828125 74.21875 47.359375 69.109375 \r\nQ 53.90625 64.015625 53.90625 55.328125 \r\nQ 53.90625 49.265625 50.4375 45.09375 \r\nQ 46.96875 40.921875 40.578125 39.3125 \r\nz\r\n\" id=\"DejaVuSans-51\"/>\r\n       </defs>\r\n       <use xlink:href=\"#DejaVuSans-48\"/>\r\n       <use x=\"63.623047\" xlink:href=\"#DejaVuSans-46\"/>\r\n       <use x=\"95.410156\" xlink:href=\"#DejaVuSans-55\"/>\r\n       <use x=\"159.033203\" xlink:href=\"#DejaVuSans-51\"/>\r\n      </g>\r\n     </g>\r\n    </g>\r\n    <g id=\"xtick_3\">\r\n     <g id=\"line2d_3\">\r\n      <g>\r\n       <use style=\"stroke:#000000;stroke-width:0.8;\" x=\"178.306181\" xlink:href=\"#mc287187135\" y=\"333.36\"/>\r\n      </g>\r\n     </g>\r\n     <g id=\"text_3\">\r\n      <!-- 0.74 -->\r\n      <g transform=\"translate(167.173368 347.958438)scale(0.1 -0.1)\">\r\n       <defs>\r\n        <path d=\"M 37.796875 64.3125 \r\nL 12.890625 25.390625 \r\nL 37.796875 25.390625 \r\nz\r\nM 35.203125 72.90625 \r\nL 47.609375 72.90625 \r\nL 47.609375 25.390625 \r\nL 58.015625 25.390625 \r\nL 58.015625 17.1875 \r\nL 47.609375 17.1875 \r\nL 47.609375 0 \r\nL 37.796875 0 \r\nL 37.796875 17.1875 \r\nL 4.890625 17.1875 \r\nL 4.890625 26.703125 \r\nz\r\n\" id=\"DejaVuSans-52\"/>\r\n       </defs>\r\n       <use xlink:href=\"#DejaVuSans-48\"/>\r\n       <use x=\"63.623047\" xlink:href=\"#DejaVuSans-46\"/>\r\n       <use x=\"95.410156\" xlink:href=\"#DejaVuSans-55\"/>\r\n       <use x=\"159.033203\" xlink:href=\"#DejaVuSans-52\"/>\r\n      </g>\r\n     </g>\r\n    </g>\r\n    <g id=\"xtick_4\">\r\n     <g id=\"line2d_4\">\r\n      <g>\r\n       <use style=\"stroke:#000000;stroke-width:0.8;\" x=\"232.077089\" xlink:href=\"#mc287187135\" y=\"333.36\"/>\r\n      </g>\r\n     </g>\r\n     <g id=\"text_4\">\r\n      <!-- 0.75 -->\r\n      <g transform=\"translate(220.944276 347.958438)scale(0.1 -0.1)\">\r\n       <defs>\r\n        <path d=\"M 10.796875 72.90625 \r\nL 49.515625 72.90625 \r\nL 49.515625 64.59375 \r\nL 19.828125 64.59375 \r\nL 19.828125 46.734375 \r\nQ 21.96875 47.46875 24.109375 47.828125 \r\nQ 26.265625 48.1875 28.421875 48.1875 \r\nQ 40.625 48.1875 47.75 41.5 \r\nQ 54.890625 34.8125 54.890625 23.390625 \r\nQ 54.890625 11.625 47.5625 5.09375 \r\nQ 40.234375 -1.421875 26.90625 -1.421875 \r\nQ 22.3125 -1.421875 17.546875 -0.640625 \r\nQ 12.796875 0.140625 7.71875 1.703125 \r\nL 7.71875 11.625 \r\nQ 12.109375 9.234375 16.796875 8.0625 \r\nQ 21.484375 6.890625 26.703125 6.890625 \r\nQ 35.15625 6.890625 40.078125 11.328125 \r\nQ 45.015625 15.765625 45.015625 23.390625 \r\nQ 45.015625 31 40.078125 35.4375 \r\nQ 35.15625 39.890625 26.703125 39.890625 \r\nQ 22.75 39.890625 18.8125 39.015625 \r\nQ 14.890625 38.140625 10.796875 36.28125 \r\nz\r\n\" id=\"DejaVuSans-53\"/>\r\n       </defs>\r\n       <use xlink:href=\"#DejaVuSans-48\"/>\r\n       <use x=\"63.623047\" xlink:href=\"#DejaVuSans-46\"/>\r\n       <use x=\"95.410156\" xlink:href=\"#DejaVuSans-55\"/>\r\n       <use x=\"159.033203\" xlink:href=\"#DejaVuSans-53\"/>\r\n      </g>\r\n     </g>\r\n    </g>\r\n    <g id=\"xtick_5\">\r\n     <g id=\"line2d_5\">\r\n      <g>\r\n       <use style=\"stroke:#000000;stroke-width:0.8;\" x=\"285.847997\" xlink:href=\"#mc287187135\" y=\"333.36\"/>\r\n      </g>\r\n     </g>\r\n     <g id=\"text_5\">\r\n      <!-- 0.76 -->\r\n      <g transform=\"translate(274.715185 347.958438)scale(0.1 -0.1)\">\r\n       <defs>\r\n        <path d=\"M 33.015625 40.375 \r\nQ 26.375 40.375 22.484375 35.828125 \r\nQ 18.609375 31.296875 18.609375 23.390625 \r\nQ 18.609375 15.53125 22.484375 10.953125 \r\nQ 26.375 6.390625 33.015625 6.390625 \r\nQ 39.65625 6.390625 43.53125 10.953125 \r\nQ 47.40625 15.53125 47.40625 23.390625 \r\nQ 47.40625 31.296875 43.53125 35.828125 \r\nQ 39.65625 40.375 33.015625 40.375 \r\nz\r\nM 52.59375 71.296875 \r\nL 52.59375 62.3125 \r\nQ 48.875 64.0625 45.09375 64.984375 \r\nQ 41.3125 65.921875 37.59375 65.921875 \r\nQ 27.828125 65.921875 22.671875 59.328125 \r\nQ 17.53125 52.734375 16.796875 39.40625 \r\nQ 19.671875 43.65625 24.015625 45.921875 \r\nQ 28.375 48.1875 33.59375 48.1875 \r\nQ 44.578125 48.1875 50.953125 41.515625 \r\nQ 57.328125 34.859375 57.328125 23.390625 \r\nQ 57.328125 12.15625 50.6875 5.359375 \r\nQ 44.046875 -1.421875 33.015625 -1.421875 \r\nQ 20.359375 -1.421875 13.671875 8.265625 \r\nQ 6.984375 17.96875 6.984375 36.375 \r\nQ 6.984375 53.65625 15.1875 63.9375 \r\nQ 23.390625 74.21875 37.203125 74.21875 \r\nQ 40.921875 74.21875 44.703125 73.484375 \r\nQ 48.484375 72.75 52.59375 71.296875 \r\nz\r\n\" id=\"DejaVuSans-54\"/>\r\n       </defs>\r\n       <use xlink:href=\"#DejaVuSans-48\"/>\r\n       <use x=\"63.623047\" xlink:href=\"#DejaVuSans-46\"/>\r\n       <use x=\"95.410156\" xlink:href=\"#DejaVuSans-55\"/>\r\n       <use x=\"159.033203\" xlink:href=\"#DejaVuSans-54\"/>\r\n      </g>\r\n     </g>\r\n    </g>\r\n    <g id=\"xtick_6\">\r\n     <g id=\"line2d_6\">\r\n      <g>\r\n       <use style=\"stroke:#000000;stroke-width:0.8;\" x=\"339.618905\" xlink:href=\"#mc287187135\" y=\"333.36\"/>\r\n      </g>\r\n     </g>\r\n     <g id=\"text_6\">\r\n      <!-- 0.77 -->\r\n      <g transform=\"translate(328.486093 347.958438)scale(0.1 -0.1)\">\r\n       <use xlink:href=\"#DejaVuSans-48\"/>\r\n       <use x=\"63.623047\" xlink:href=\"#DejaVuSans-46\"/>\r\n       <use x=\"95.410156\" xlink:href=\"#DejaVuSans-55\"/>\r\n       <use x=\"159.033203\" xlink:href=\"#DejaVuSans-55\"/>\r\n      </g>\r\n     </g>\r\n    </g>\r\n    <g id=\"xtick_7\">\r\n     <g id=\"line2d_7\">\r\n      <g>\r\n       <use style=\"stroke:#000000;stroke-width:0.8;\" x=\"393.389814\" xlink:href=\"#mc287187135\" y=\"333.36\"/>\r\n      </g>\r\n     </g>\r\n     <g id=\"text_7\">\r\n      <!-- 0.78 -->\r\n      <g transform=\"translate(382.257001 347.958438)scale(0.1 -0.1)\">\r\n       <defs>\r\n        <path d=\"M 31.78125 34.625 \r\nQ 24.75 34.625 20.71875 30.859375 \r\nQ 16.703125 27.09375 16.703125 20.515625 \r\nQ 16.703125 13.921875 20.71875 10.15625 \r\nQ 24.75 6.390625 31.78125 6.390625 \r\nQ 38.8125 6.390625 42.859375 10.171875 \r\nQ 46.921875 13.96875 46.921875 20.515625 \r\nQ 46.921875 27.09375 42.890625 30.859375 \r\nQ 38.875 34.625 31.78125 34.625 \r\nz\r\nM 21.921875 38.8125 \r\nQ 15.578125 40.375 12.03125 44.71875 \r\nQ 8.5 49.078125 8.5 55.328125 \r\nQ 8.5 64.0625 14.71875 69.140625 \r\nQ 20.953125 74.21875 31.78125 74.21875 \r\nQ 42.671875 74.21875 48.875 69.140625 \r\nQ 55.078125 64.0625 55.078125 55.328125 \r\nQ 55.078125 49.078125 51.53125 44.71875 \r\nQ 48 40.375 41.703125 38.8125 \r\nQ 48.828125 37.15625 52.796875 32.3125 \r\nQ 56.78125 27.484375 56.78125 20.515625 \r\nQ 56.78125 9.90625 50.3125 4.234375 \r\nQ 43.84375 -1.421875 31.78125 -1.421875 \r\nQ 19.734375 -1.421875 13.25 4.234375 \r\nQ 6.78125 9.90625 6.78125 20.515625 \r\nQ 6.78125 27.484375 10.78125 32.3125 \r\nQ 14.796875 37.15625 21.921875 38.8125 \r\nz\r\nM 18.3125 54.390625 \r\nQ 18.3125 48.734375 21.84375 45.5625 \r\nQ 25.390625 42.390625 31.78125 42.390625 \r\nQ 38.140625 42.390625 41.71875 45.5625 \r\nQ 45.3125 48.734375 45.3125 54.390625 \r\nQ 45.3125 60.0625 41.71875 63.234375 \r\nQ 38.140625 66.40625 31.78125 66.40625 \r\nQ 25.390625 66.40625 21.84375 63.234375 \r\nQ 18.3125 60.0625 18.3125 54.390625 \r\nz\r\n\" id=\"DejaVuSans-56\"/>\r\n       </defs>\r\n       <use xlink:href=\"#DejaVuSans-48\"/>\r\n       <use x=\"63.623047\" xlink:href=\"#DejaVuSans-46\"/>\r\n       <use x=\"95.410156\" xlink:href=\"#DejaVuSans-55\"/>\r\n       <use x=\"159.033203\" xlink:href=\"#DejaVuSans-56\"/>\r\n      </g>\r\n     </g>\r\n    </g>\r\n    <g id=\"xtick_8\">\r\n     <g id=\"line2d_8\">\r\n      <g>\r\n       <use style=\"stroke:#000000;stroke-width:0.8;\" x=\"447.160722\" xlink:href=\"#mc287187135\" y=\"333.36\"/>\r\n      </g>\r\n     </g>\r\n     <g id=\"text_8\">\r\n      <!-- 0.79 -->\r\n      <g transform=\"translate(436.027909 347.958438)scale(0.1 -0.1)\">\r\n       <defs>\r\n        <path d=\"M 10.984375 1.515625 \r\nL 10.984375 10.5 \r\nQ 14.703125 8.734375 18.5 7.8125 \r\nQ 22.3125 6.890625 25.984375 6.890625 \r\nQ 35.75 6.890625 40.890625 13.453125 \r\nQ 46.046875 20.015625 46.78125 33.40625 \r\nQ 43.953125 29.203125 39.59375 26.953125 \r\nQ 35.25 24.703125 29.984375 24.703125 \r\nQ 19.046875 24.703125 12.671875 31.3125 \r\nQ 6.296875 37.9375 6.296875 49.421875 \r\nQ 6.296875 60.640625 12.9375 67.421875 \r\nQ 19.578125 74.21875 30.609375 74.21875 \r\nQ 43.265625 74.21875 49.921875 64.515625 \r\nQ 56.59375 54.828125 56.59375 36.375 \r\nQ 56.59375 19.140625 48.40625 8.859375 \r\nQ 40.234375 -1.421875 26.421875 -1.421875 \r\nQ 22.703125 -1.421875 18.890625 -0.6875 \r\nQ 15.09375 0.046875 10.984375 1.515625 \r\nz\r\nM 30.609375 32.421875 \r\nQ 37.25 32.421875 41.125 36.953125 \r\nQ 45.015625 41.5 45.015625 49.421875 \r\nQ 45.015625 57.28125 41.125 61.84375 \r\nQ 37.25 66.40625 30.609375 66.40625 \r\nQ 23.96875 66.40625 20.09375 61.84375 \r\nQ 16.21875 57.28125 16.21875 49.421875 \r\nQ 16.21875 41.5 20.09375 36.953125 \r\nQ 23.96875 32.421875 30.609375 32.421875 \r\nz\r\n\" id=\"DejaVuSans-57\"/>\r\n       </defs>\r\n       <use xlink:href=\"#DejaVuSans-48\"/>\r\n       <use x=\"63.623047\" xlink:href=\"#DejaVuSans-46\"/>\r\n       <use x=\"95.410156\" xlink:href=\"#DejaVuSans-55\"/>\r\n       <use x=\"159.033203\" xlink:href=\"#DejaVuSans-57\"/>\r\n      </g>\r\n     </g>\r\n    </g>\r\n    <g id=\"text_9\">\r\n     <!-- Accuracy -->\r\n     <g transform=\"translate(234.6125 361.636562)scale(0.1 -0.1)\">\r\n      <defs>\r\n       <path d=\"M 34.1875 63.1875 \r\nL 20.796875 26.90625 \r\nL 47.609375 26.90625 \r\nz\r\nM 28.609375 72.90625 \r\nL 39.796875 72.90625 \r\nL 67.578125 0 \r\nL 57.328125 0 \r\nL 50.6875 18.703125 \r\nL 17.828125 18.703125 \r\nL 11.1875 0 \r\nL 0.78125 0 \r\nz\r\n\" id=\"DejaVuSans-65\"/>\r\n       <path d=\"M 48.78125 52.59375 \r\nL 48.78125 44.1875 \r\nQ 44.96875 46.296875 41.140625 47.34375 \r\nQ 37.3125 48.390625 33.40625 48.390625 \r\nQ 24.65625 48.390625 19.8125 42.84375 \r\nQ 14.984375 37.3125 14.984375 27.296875 \r\nQ 14.984375 17.28125 19.8125 11.734375 \r\nQ 24.65625 6.203125 33.40625 6.203125 \r\nQ 37.3125 6.203125 41.140625 7.25 \r\nQ 44.96875 8.296875 48.78125 10.40625 \r\nL 48.78125 2.09375 \r\nQ 45.015625 0.34375 40.984375 -0.53125 \r\nQ 36.96875 -1.421875 32.421875 -1.421875 \r\nQ 20.0625 -1.421875 12.78125 6.34375 \r\nQ 5.515625 14.109375 5.515625 27.296875 \r\nQ 5.515625 40.671875 12.859375 48.328125 \r\nQ 20.21875 56 33.015625 56 \r\nQ 37.15625 56 41.109375 55.140625 \r\nQ 45.0625 54.296875 48.78125 52.59375 \r\nz\r\n\" id=\"DejaVuSans-99\"/>\r\n       <path d=\"M 8.5 21.578125 \r\nL 8.5 54.6875 \r\nL 17.484375 54.6875 \r\nL 17.484375 21.921875 \r\nQ 17.484375 14.15625 20.5 10.265625 \r\nQ 23.53125 6.390625 29.59375 6.390625 \r\nQ 36.859375 6.390625 41.078125 11.03125 \r\nQ 45.3125 15.671875 45.3125 23.6875 \r\nL 45.3125 54.6875 \r\nL 54.296875 54.6875 \r\nL 54.296875 0 \r\nL 45.3125 0 \r\nL 45.3125 8.40625 \r\nQ 42.046875 3.421875 37.71875 1 \r\nQ 33.40625 -1.421875 27.6875 -1.421875 \r\nQ 18.265625 -1.421875 13.375 4.4375 \r\nQ 8.5 10.296875 8.5 21.578125 \r\nz\r\nM 31.109375 56 \r\nz\r\n\" id=\"DejaVuSans-117\"/>\r\n       <path d=\"M 41.109375 46.296875 \r\nQ 39.59375 47.171875 37.8125 47.578125 \r\nQ 36.03125 48 33.890625 48 \r\nQ 26.265625 48 22.1875 43.046875 \r\nQ 18.109375 38.09375 18.109375 28.8125 \r\nL 18.109375 0 \r\nL 9.078125 0 \r\nL 9.078125 54.6875 \r\nL 18.109375 54.6875 \r\nL 18.109375 46.1875 \r\nQ 20.953125 51.171875 25.484375 53.578125 \r\nQ 30.03125 56 36.53125 56 \r\nQ 37.453125 56 38.578125 55.875 \r\nQ 39.703125 55.765625 41.0625 55.515625 \r\nz\r\n\" id=\"DejaVuSans-114\"/>\r\n       <path d=\"M 34.28125 27.484375 \r\nQ 23.390625 27.484375 19.1875 25 \r\nQ 14.984375 22.515625 14.984375 16.5 \r\nQ 14.984375 11.71875 18.140625 8.90625 \r\nQ 21.296875 6.109375 26.703125 6.109375 \r\nQ 34.1875 6.109375 38.703125 11.40625 \r\nQ 43.21875 16.703125 43.21875 25.484375 \r\nL 43.21875 27.484375 \r\nz\r\nM 52.203125 31.203125 \r\nL 52.203125 0 \r\nL 43.21875 0 \r\nL 43.21875 8.296875 \r\nQ 40.140625 3.328125 35.546875 0.953125 \r\nQ 30.953125 -1.421875 24.3125 -1.421875 \r\nQ 15.921875 -1.421875 10.953125 3.296875 \r\nQ 6 8.015625 6 15.921875 \r\nQ 6 25.140625 12.171875 29.828125 \r\nQ 18.359375 34.515625 30.609375 34.515625 \r\nL 43.21875 34.515625 \r\nL 43.21875 35.40625 \r\nQ 43.21875 41.609375 39.140625 45 \r\nQ 35.0625 48.390625 27.6875 48.390625 \r\nQ 23 48.390625 18.546875 47.265625 \r\nQ 14.109375 46.140625 10.015625 43.890625 \r\nL 10.015625 52.203125 \r\nQ 14.9375 54.109375 19.578125 55.046875 \r\nQ 24.21875 56 28.609375 56 \r\nQ 40.484375 56 46.34375 49.84375 \r\nQ 52.203125 43.703125 52.203125 31.203125 \r\nz\r\n\" id=\"DejaVuSans-97\"/>\r\n       <path d=\"M 32.171875 -5.078125 \r\nQ 28.375 -14.84375 24.75 -17.8125 \r\nQ 21.140625 -20.796875 15.09375 -20.796875 \r\nL 7.90625 -20.796875 \r\nL 7.90625 -13.28125 \r\nL 13.1875 -13.28125 \r\nQ 16.890625 -13.28125 18.9375 -11.515625 \r\nQ 21 -9.765625 23.484375 -3.21875 \r\nL 25.09375 0.875 \r\nL 2.984375 54.6875 \r\nL 12.5 54.6875 \r\nL 29.59375 11.921875 \r\nL 46.6875 54.6875 \r\nL 56.203125 54.6875 \r\nz\r\n\" id=\"DejaVuSans-121\"/>\r\n      </defs>\r\n      <use xlink:href=\"#DejaVuSans-65\"/>\r\n      <use x=\"66.658203\" xlink:href=\"#DejaVuSans-99\"/>\r\n      <use x=\"121.638672\" xlink:href=\"#DejaVuSans-99\"/>\r\n      <use x=\"176.619141\" xlink:href=\"#DejaVuSans-117\"/>\r\n      <use x=\"239.998047\" xlink:href=\"#DejaVuSans-114\"/>\r\n      <use x=\"281.111328\" xlink:href=\"#DejaVuSans-97\"/>\r\n      <use x=\"342.390625\" xlink:href=\"#DejaVuSans-99\"/>\r\n      <use x=\"397.371094\" xlink:href=\"#DejaVuSans-121\"/>\r\n     </g>\r\n    </g>\r\n   </g>\r\n   <g id=\"matplotlib.axis_2\">\r\n    <g id=\"ytick_1\">\r\n     <g id=\"line2d_9\">\r\n      <defs>\r\n       <path d=\"M 0 0 \r\nL -3.5 0 \r\n\" id=\"mc59354e651\" style=\"stroke:#000000;stroke-width:0.8;\"/>\r\n      </defs>\r\n      <g>\r\n       <use style=\"stroke:#000000;stroke-width:0.8;\" x=\"34.240625\" xlink:href=\"#mc59354e651\" y=\"333.36\"/>\r\n      </g>\r\n     </g>\r\n     <g id=\"text_10\">\r\n      <!-- 0 -->\r\n      <g transform=\"translate(20.878125 337.159219)scale(0.1 -0.1)\">\r\n       <use xlink:href=\"#DejaVuSans-48\"/>\r\n      </g>\r\n     </g>\r\n    </g>\r\n    <g id=\"ytick_2\">\r\n     <g id=\"line2d_10\">\r\n      <g>\r\n       <use style=\"stroke:#000000;stroke-width:0.8;\" x=\"34.240625\" xlink:href=\"#mc59354e651\" y=\"264.331429\"/>\r\n      </g>\r\n     </g>\r\n     <g id=\"text_11\">\r\n      <!-- 2 -->\r\n      <g transform=\"translate(20.878125 268.130647)scale(0.1 -0.1)\">\r\n       <use xlink:href=\"#DejaVuSans-50\"/>\r\n      </g>\r\n     </g>\r\n    </g>\r\n    <g id=\"ytick_3\">\r\n     <g id=\"line2d_11\">\r\n      <g>\r\n       <use style=\"stroke:#000000;stroke-width:0.8;\" x=\"34.240625\" xlink:href=\"#mc59354e651\" y=\"195.302857\"/>\r\n      </g>\r\n     </g>\r\n     <g id=\"text_12\">\r\n      <!-- 4 -->\r\n      <g transform=\"translate(20.878125 199.102076)scale(0.1 -0.1)\">\r\n       <use xlink:href=\"#DejaVuSans-52\"/>\r\n      </g>\r\n     </g>\r\n    </g>\r\n    <g id=\"ytick_4\">\r\n     <g id=\"line2d_12\">\r\n      <g>\r\n       <use style=\"stroke:#000000;stroke-width:0.8;\" x=\"34.240625\" xlink:href=\"#mc59354e651\" y=\"126.274286\"/>\r\n      </g>\r\n     </g>\r\n     <g id=\"text_13\">\r\n      <!-- 6 -->\r\n      <g transform=\"translate(20.878125 130.073504)scale(0.1 -0.1)\">\r\n       <use xlink:href=\"#DejaVuSans-54\"/>\r\n      </g>\r\n     </g>\r\n    </g>\r\n    <g id=\"ytick_5\">\r\n     <g id=\"line2d_13\">\r\n      <g>\r\n       <use style=\"stroke:#000000;stroke-width:0.8;\" x=\"34.240625\" xlink:href=\"#mc59354e651\" y=\"57.245714\"/>\r\n      </g>\r\n     </g>\r\n     <g id=\"text_14\">\r\n      <!-- 8 -->\r\n      <g transform=\"translate(20.878125 61.044933)scale(0.1 -0.1)\">\r\n       <use xlink:href=\"#DejaVuSans-56\"/>\r\n      </g>\r\n     </g>\r\n    </g>\r\n    <g id=\"text_15\">\r\n     <!-- Count -->\r\n     <g transform=\"translate(14.798437 185.128437)rotate(-90)scale(0.1 -0.1)\">\r\n      <defs>\r\n       <path d=\"M 64.40625 67.28125 \r\nL 64.40625 56.890625 \r\nQ 59.421875 61.53125 53.78125 63.8125 \r\nQ 48.140625 66.109375 41.796875 66.109375 \r\nQ 29.296875 66.109375 22.65625 58.46875 \r\nQ 16.015625 50.828125 16.015625 36.375 \r\nQ 16.015625 21.96875 22.65625 14.328125 \r\nQ 29.296875 6.6875 41.796875 6.6875 \r\nQ 48.140625 6.6875 53.78125 8.984375 \r\nQ 59.421875 11.28125 64.40625 15.921875 \r\nL 64.40625 5.609375 \r\nQ 59.234375 2.09375 53.4375 0.328125 \r\nQ 47.65625 -1.421875 41.21875 -1.421875 \r\nQ 24.65625 -1.421875 15.125 8.703125 \r\nQ 5.609375 18.84375 5.609375 36.375 \r\nQ 5.609375 53.953125 15.125 64.078125 \r\nQ 24.65625 74.21875 41.21875 74.21875 \r\nQ 47.75 74.21875 53.53125 72.484375 \r\nQ 59.328125 70.75 64.40625 67.28125 \r\nz\r\n\" id=\"DejaVuSans-67\"/>\r\n       <path d=\"M 30.609375 48.390625 \r\nQ 23.390625 48.390625 19.1875 42.75 \r\nQ 14.984375 37.109375 14.984375 27.296875 \r\nQ 14.984375 17.484375 19.15625 11.84375 \r\nQ 23.34375 6.203125 30.609375 6.203125 \r\nQ 37.796875 6.203125 41.984375 11.859375 \r\nQ 46.1875 17.53125 46.1875 27.296875 \r\nQ 46.1875 37.015625 41.984375 42.703125 \r\nQ 37.796875 48.390625 30.609375 48.390625 \r\nz\r\nM 30.609375 56 \r\nQ 42.328125 56 49.015625 48.375 \r\nQ 55.71875 40.765625 55.71875 27.296875 \r\nQ 55.71875 13.875 49.015625 6.21875 \r\nQ 42.328125 -1.421875 30.609375 -1.421875 \r\nQ 18.84375 -1.421875 12.171875 6.21875 \r\nQ 5.515625 13.875 5.515625 27.296875 \r\nQ 5.515625 40.765625 12.171875 48.375 \r\nQ 18.84375 56 30.609375 56 \r\nz\r\n\" id=\"DejaVuSans-111\"/>\r\n       <path d=\"M 54.890625 33.015625 \r\nL 54.890625 0 \r\nL 45.90625 0 \r\nL 45.90625 32.71875 \r\nQ 45.90625 40.484375 42.875 44.328125 \r\nQ 39.84375 48.1875 33.796875 48.1875 \r\nQ 26.515625 48.1875 22.3125 43.546875 \r\nQ 18.109375 38.921875 18.109375 30.90625 \r\nL 18.109375 0 \r\nL 9.078125 0 \r\nL 9.078125 54.6875 \r\nL 18.109375 54.6875 \r\nL 18.109375 46.1875 \r\nQ 21.34375 51.125 25.703125 53.5625 \r\nQ 30.078125 56 35.796875 56 \r\nQ 45.21875 56 50.046875 50.171875 \r\nQ 54.890625 44.34375 54.890625 33.015625 \r\nz\r\n\" id=\"DejaVuSans-110\"/>\r\n       <path d=\"M 18.3125 70.21875 \r\nL 18.3125 54.6875 \r\nL 36.8125 54.6875 \r\nL 36.8125 47.703125 \r\nL 18.3125 47.703125 \r\nL 18.3125 18.015625 \r\nQ 18.3125 11.328125 20.140625 9.421875 \r\nQ 21.96875 7.515625 27.59375 7.515625 \r\nL 36.8125 7.515625 \r\nL 36.8125 0 \r\nL 27.59375 0 \r\nQ 17.1875 0 13.234375 3.875 \r\nQ 9.28125 7.765625 9.28125 18.015625 \r\nL 9.28125 47.703125 \r\nL 2.6875 47.703125 \r\nL 2.6875 54.6875 \r\nL 9.28125 54.6875 \r\nL 9.28125 70.21875 \r\nz\r\n\" id=\"DejaVuSans-116\"/>\r\n      </defs>\r\n      <use xlink:href=\"#DejaVuSans-67\"/>\r\n      <use x=\"69.824219\" xlink:href=\"#DejaVuSans-111\"/>\r\n      <use x=\"131.005859\" xlink:href=\"#DejaVuSans-117\"/>\r\n      <use x=\"194.384766\" xlink:href=\"#DejaVuSans-110\"/>\r\n      <use x=\"257.763672\" xlink:href=\"#DejaVuSans-116\"/>\r\n     </g>\r\n    </g>\r\n   </g>\r\n   <g id=\"patch_13\">\r\n    <path d=\"M 34.240625 333.36 \r\nL 34.240625 7.2 \r\n\" style=\"fill:none;stroke:#000000;stroke-linecap:square;stroke-linejoin:miter;stroke-width:0.8;\"/>\r\n   </g>\r\n   <g id=\"patch_14\">\r\n    <path d=\"M 480.640625 333.36 \r\nL 480.640625 7.2 \r\n\" style=\"fill:none;stroke:#000000;stroke-linecap:square;stroke-linejoin:miter;stroke-width:0.8;\"/>\r\n   </g>\r\n   <g id=\"patch_15\">\r\n    <path d=\"M 34.240625 333.36 \r\nL 480.640625 333.36 \r\n\" style=\"fill:none;stroke:#000000;stroke-linecap:square;stroke-linejoin:miter;stroke-width:0.8;\"/>\r\n   </g>\r\n   <g id=\"patch_16\">\r\n    <path d=\"M 34.240625 7.2 \r\nL 480.640625 7.2 \r\n\" style=\"fill:none;stroke:#000000;stroke-linecap:square;stroke-linejoin:miter;stroke-width:0.8;\"/>\r\n   </g>\r\n  </g>\r\n </g>\r\n <defs>\r\n  <clipPath id=\"p6eed0747c5\">\r\n   <rect height=\"326.16\" width=\"446.4\" x=\"34.240625\" y=\"7.2\"/>\r\n  </clipPath>\r\n </defs>\r\n</svg>\r\n",
      "image/png": "[encoded data removed]"
     },
     "metadata": {
      "needs_background": "light"
     }
    }
   ],
   "source": [
    "plt.figure(figsize=(8, 6))\n",
    "plt.hist(test_accs)\n",
    "plt.xlabel(\"Accuracy\")\n",
    "plt.ylabel(\"Count\")"
   ]
  },
  {
   "cell_type": "code",
   "execution_count": null,
   "metadata": {},
   "outputs": [],
   "source": []
  },
  {
   "cell_type": "code",
   "execution_count": null,
   "metadata": {},
   "outputs": [],
   "source": []
  },
  {
   "cell_type": "code",
   "execution_count": null,
   "metadata": {},
   "outputs": [],
   "source": []
  },
  {
   "cell_type": "code",
   "execution_count": null,
   "metadata": {},
   "outputs": [],
   "source": []
  },
  {
   "cell_type": "code",
   "execution_count": null,
   "metadata": {},
   "outputs": [],
   "source": []
  },
  {
   "cell_type": "code",
   "execution_count": null,
   "metadata": {},
   "outputs": [],
   "source": []
  },
  {
   "source": [
    "<h2> 4. NUPACK </h2>"
   ],
   "cell_type": "markdown",
   "metadata": {}
  },
  {
   "source": [
    "use the result fron the nupack  "
   ],
   "cell_type": "markdown",
   "metadata": {}
  },
  {
   "cell_type": "code",
   "execution_count": 18,
   "metadata": {},
   "outputs": [],
   "source": [
    " "
   ]
  },
  {
   "cell_type": "code",
   "execution_count": 19,
   "metadata": {},
   "outputs": [
    {
     "output_type": "execute_result",
     "data": {
      "text/plain": [
       "                                           primer1  \\\n",
       "0                        AGCATTGTGGGTAGTAAGGTATAAA   \n",
       "1                          AGCGTGGTTATTGGATGGGTTTG   \n",
       "2                          AGCGGTAAGTGTTTAGGATGGTT   \n",
       "3                             AGCCCCAAAACACCCCCACT   \n",
       "4                        AGCAAACTATCCAATCAAACACACA   \n",
       "..                                             ...   \n",
       "314                        AGCTTAAAAATGGGGTGGGGTAG   \n",
       "315      GACCTCAACGCACAGTACGATTTCCAACCCAATTTTCCAAC   \n",
       "316                        AGCACCAATATAAATCCCCACCC   \n",
       "317  GACCTCAACGCACAGTACGATGATTAATAAGTGTTTTTTGTTGTG   \n",
       "318        GACCTCAACGCACAGTACGAGTTTAGGTATAGGAGGGAG   \n",
       "\n",
       "                                          primer2  label     energy  \\\n",
       "0                        AGCTCAAAATCTACATAACCCCTC      0  -8.631535   \n",
       "1                  AGCAAATCTTTACTAAAAAAAATTTACCTT      0  -8.993334   \n",
       "2                          AGCATCACAAAACCCCTCCCTT      0  -8.595444   \n",
       "3                         AGCGGGTTAAAGAGAAGAAGGTT      0  -8.318719   \n",
       "4                         AGCGAGGATATAGAGTAGTGAAG      0  -8.315137   \n",
       "..                                            ...    ...        ...   \n",
       "314                        AGCCCAATATAAATCCCCACCC      1 -12.498352   \n",
       "315  CGTCACTGAAACCACCGGAATAAATGTTTTGGAGAGTTTAAGTG      1 -11.405235   \n",
       "316                        AGCAAAAATGGGGTGGGGTAGG      1 -12.506374   \n",
       "317     CGTCACTGAAACCACCGGAACTCAACTTACCACAATAAACC      1 -11.349242   \n",
       "318         CGTCACTGAAACCACCGGAACCTCTCCTTCCAACCCA      1 -11.831542   \n",
       "\n",
       "            pfunc                                          structure  \n",
       "0    5.605800e+05  ........((((.............+.................)))...  \n",
       "1    9.763305e+05  .................(((...+.........................  \n",
       "2    5.303968e+05     ................((((.(.+).))))................  \n",
       "3    3.469770e+05       ...........((((.....+...))))................  \n",
       "4    3.450763e+05  ........((((.............+.....))))..............  \n",
       "..            ...                                                ...  \n",
       "314  2.108400e+08     ............((((((((...+..............))))))))  \n",
       "315  3.943964e+07  ............((((.........................+.......  \n",
       "316  2.134498e+08     ...............((((((((+..........))))))))....  \n",
       "317  3.619440e+07  ............((((.............................+...  \n",
       "318  7.583239e+07  .((((.(((...........))).))))..(((((....+.........  \n",
       "\n",
       "[319 rows x 6 columns]"
      ],
      "text/html": "<div>\n<style scoped>\n    .dataframe tbody tr th:only-of-type {\n        vertical-align: middle;\n    }\n\n    .dataframe tbody tr th {\n        vertical-align: top;\n    }\n\n    .dataframe thead th {\n        text-align: right;\n    }\n</style>\n<table border=\"1\" class=\"dataframe\">\n  <thead>\n    <tr style=\"text-align: right;\">\n      <th></th>\n      <th>primer1</th>\n      <th>primer2</th>\n      <th>label</th>\n      <th>energy</th>\n      <th>pfunc</th>\n      <th>structure</th>\n    </tr>\n  </thead>\n  <tbody>\n    <tr>\n      <th>0</th>\n      <td>AGCATTGTGGGTAGTAAGGTATAAA</td>\n      <td>AGCTCAAAATCTACATAACCCCTC</td>\n      <td>0</td>\n      <td>-8.631535</td>\n      <td>5.605800e+05</td>\n      <td>........((((.............+.................)))...</td>\n    </tr>\n    <tr>\n      <th>1</th>\n      <td>AGCGTGGTTATTGGATGGGTTTG</td>\n      <td>AGCAAATCTTTACTAAAAAAAATTTACCTT</td>\n      <td>0</td>\n      <td>-8.993334</td>\n      <td>9.763305e+05</td>\n      <td>.................(((...+.........................</td>\n    </tr>\n    <tr>\n      <th>2</th>\n      <td>AGCGGTAAGTGTTTAGGATGGTT</td>\n      <td>AGCATCACAAAACCCCTCCCTT</td>\n      <td>0</td>\n      <td>-8.595444</td>\n      <td>5.303968e+05</td>\n      <td>................((((.(.+).))))................</td>\n    </tr>\n    <tr>\n      <th>3</th>\n      <td>AGCCCCAAAACACCCCCACT</td>\n      <td>AGCGGGTTAAAGAGAAGAAGGTT</td>\n      <td>0</td>\n      <td>-8.318719</td>\n      <td>3.469770e+05</td>\n      <td>...........((((.....+...))))................</td>\n    </tr>\n    <tr>\n      <th>4</th>\n      <td>AGCAAACTATCCAATCAAACACACA</td>\n      <td>AGCGAGGATATAGAGTAGTGAAG</td>\n      <td>0</td>\n      <td>-8.315137</td>\n      <td>3.450763e+05</td>\n      <td>........((((.............+.....))))..............</td>\n    </tr>\n    <tr>\n      <th>...</th>\n      <td>...</td>\n      <td>...</td>\n      <td>...</td>\n      <td>...</td>\n      <td>...</td>\n      <td>...</td>\n    </tr>\n    <tr>\n      <th>314</th>\n      <td>AGCTTAAAAATGGGGTGGGGTAG</td>\n      <td>AGCCCAATATAAATCCCCACCC</td>\n      <td>1</td>\n      <td>-12.498352</td>\n      <td>2.108400e+08</td>\n      <td>............((((((((...+..............))))))))</td>\n    </tr>\n    <tr>\n      <th>315</th>\n      <td>GACCTCAACGCACAGTACGATTTCCAACCCAATTTTCCAAC</td>\n      <td>CGTCACTGAAACCACCGGAATAAATGTTTTGGAGAGTTTAAGTG</td>\n      <td>1</td>\n      <td>-11.405235</td>\n      <td>3.943964e+07</td>\n      <td>............((((.........................+.......</td>\n    </tr>\n    <tr>\n      <th>316</th>\n      <td>AGCACCAATATAAATCCCCACCC</td>\n      <td>AGCAAAAATGGGGTGGGGTAGG</td>\n      <td>1</td>\n      <td>-12.506374</td>\n      <td>2.134498e+08</td>\n      <td>...............((((((((+..........))))))))....</td>\n    </tr>\n    <tr>\n      <th>317</th>\n      <td>GACCTCAACGCACAGTACGATGATTAATAAGTGTTTTTTGTTGTG</td>\n      <td>CGTCACTGAAACCACCGGAACTCAACTTACCACAATAAACC</td>\n      <td>1</td>\n      <td>-11.349242</td>\n      <td>3.619440e+07</td>\n      <td>............((((.............................+...</td>\n    </tr>\n    <tr>\n      <th>318</th>\n      <td>GACCTCAACGCACAGTACGAGTTTAGGTATAGGAGGGAG</td>\n      <td>CGTCACTGAAACCACCGGAACCTCTCCTTCCAACCCA</td>\n      <td>1</td>\n      <td>-11.831542</td>\n      <td>7.583239e+07</td>\n      <td>.((((.(((...........))).))))..(((((....+.........</td>\n    </tr>\n  </tbody>\n</table>\n<p>319 rows × 6 columns</p>\n</div>"
     },
     "metadata": {},
     "execution_count": 19
    }
   ],
   "source": [
    "nupack_example_pd = pd.read_csv(\"C:/Users/user/Downloads/nupack_example_pd.csv\")\n",
    "nupack_example_pd"
   ]
  },
  {
   "cell_type": "code",
   "execution_count": 20,
   "metadata": {},
   "outputs": [
    {
     "output_type": "execute_result",
     "data": {
      "text/plain": [
       "0    267\n",
       "1     52\n",
       "Name: label, dtype: int64"
      ]
     },
     "metadata": {},
     "execution_count": 20
    }
   ],
   "source": [
    "nupack_example_pd[\"label\"].value_counts()"
   ]
  },
  {
   "source": [],
   "cell_type": "markdown",
   "metadata": {}
  },
  {
   "source": [
    "over-sampling"
   ],
   "cell_type": "markdown",
   "metadata": {}
  },
  {
   "cell_type": "code",
   "execution_count": 21,
   "metadata": {},
   "outputs": [],
   "source": [
    "from imblearn.over_sampling import RandomOverSampler\n",
    "X = nupack_example_pd[[\"primer1\", \"primer2\", \"structure\", \"energy\"]]\n",
    "y = nupack_example_pd[\"label\"]\n",
    "ros = RandomOverSampler(random_state=0)\n",
    "X, y = ros.fit_resample(X, y)"
   ]
  },
  {
   "cell_type": "code",
   "execution_count": 22,
   "metadata": {},
   "outputs": [
    {
     "output_type": "execute_result",
     "data": {
      "text/plain": [
       "                                           primer1  \\\n",
       "0                        AGCATTGTGGGTAGTAAGGTATAAA   \n",
       "1                          AGCGTGGTTATTGGATGGGTTTG   \n",
       "2                          AGCGGTAAGTGTTTAGGATGGTT   \n",
       "3                             AGCCCCAAAACACCCCCACT   \n",
       "4                        AGCAAACTATCCAATCAAACACACA   \n",
       "..                                             ...   \n",
       "529                      AGCCTAAACTTTTTAACCCTTTCCT   \n",
       "530  GACCTCAACGCACAGTACGAATACTTCTTAAAAAAATAACCTTCT   \n",
       "531        GACCTCAACGCACAGTACGAATTAGGTAGAGGTGGGTGG   \n",
       "532     GTCATGCGCCCCATAATTTGTTTTTGTAATTGTTTTAGTAAA   \n",
       "533            GTCATGCGCCCCATGATTGAGTTTATTTTGTGGGG   \n",
       "\n",
       "                                           primer2  \\\n",
       "0                         AGCTCAAAATCTACATAACCCCTC   \n",
       "1                   AGCAAATCTTTACTAAAAAAAATTTACCTT   \n",
       "2                           AGCATCACAAAACCCCTCCCTT   \n",
       "3                          AGCGGGTTAAAGAGAAGAAGGTT   \n",
       "4                          AGCGAGGATATAGAGTAGTGAAG   \n",
       "..                                             ...   \n",
       "529                        AGCTTTTGAGTGAAGGAAGGGAA   \n",
       "530  CGTCACTGAAACCACCGGAAAAGAAAATAGGTTTTTGGTTTTAAA   \n",
       "531     CGTCACTGAAACCACCGGAAAAAAAAACAATCCCTTTCCCTA   \n",
       "532       CTCGGACGCACCCATCTAATATCTTCACATATCAATATAT   \n",
       "533        CTCGGACGCACCCAACCTTTACTCTTCAAAATAAAAACA   \n",
       "\n",
       "                                             structure     energy  \n",
       "0    ........((((.............+.................)))...  -8.631535  \n",
       "1    .................(((...+.........................  -8.993334  \n",
       "2       ................((((.(.+).))))................  -8.595444  \n",
       "3         ...........((((.....+...))))................  -8.318719  \n",
       "4    ........((((.............+.....))))..............  -8.315137  \n",
       "..                                                 ...        ...  \n",
       "529  ................(((((....+................))))).. -10.372886  \n",
       "530  .....................................(((((...+... -12.759941  \n",
       "531  ..............................(((((.(..+......... -12.232126  \n",
       "532  ....((((..................................+...... -11.514529  \n",
       "533  ....(((((((((.................)))))+......))))... -11.985513  \n",
       "\n",
       "[534 rows x 4 columns]"
      ],
      "text/html": "<div>\n<style scoped>\n    .dataframe tbody tr th:only-of-type {\n        vertical-align: middle;\n    }\n\n    .dataframe tbody tr th {\n        vertical-align: top;\n    }\n\n    .dataframe thead th {\n        text-align: right;\n    }\n</style>\n<table border=\"1\" class=\"dataframe\">\n  <thead>\n    <tr style=\"text-align: right;\">\n      <th></th>\n      <th>primer1</th>\n      <th>primer2</th>\n      <th>structure</th>\n      <th>energy</th>\n    </tr>\n  </thead>\n  <tbody>\n    <tr>\n      <th>0</th>\n      <td>AGCATTGTGGGTAGTAAGGTATAAA</td>\n      <td>AGCTCAAAATCTACATAACCCCTC</td>\n      <td>........((((.............+.................)))...</td>\n      <td>-8.631535</td>\n    </tr>\n    <tr>\n      <th>1</th>\n      <td>AGCGTGGTTATTGGATGGGTTTG</td>\n      <td>AGCAAATCTTTACTAAAAAAAATTTACCTT</td>\n      <td>.................(((...+.........................</td>\n      <td>-8.993334</td>\n    </tr>\n    <tr>\n      <th>2</th>\n      <td>AGCGGTAAGTGTTTAGGATGGTT</td>\n      <td>AGCATCACAAAACCCCTCCCTT</td>\n      <td>................((((.(.+).))))................</td>\n      <td>-8.595444</td>\n    </tr>\n    <tr>\n      <th>3</th>\n      <td>AGCCCCAAAACACCCCCACT</td>\n      <td>AGCGGGTTAAAGAGAAGAAGGTT</td>\n      <td>...........((((.....+...))))................</td>\n      <td>-8.318719</td>\n    </tr>\n    <tr>\n      <th>4</th>\n      <td>AGCAAACTATCCAATCAAACACACA</td>\n      <td>AGCGAGGATATAGAGTAGTGAAG</td>\n      <td>........((((.............+.....))))..............</td>\n      <td>-8.315137</td>\n    </tr>\n    <tr>\n      <th>...</th>\n      <td>...</td>\n      <td>...</td>\n      <td>...</td>\n      <td>...</td>\n    </tr>\n    <tr>\n      <th>529</th>\n      <td>AGCCTAAACTTTTTAACCCTTTCCT</td>\n      <td>AGCTTTTGAGTGAAGGAAGGGAA</td>\n      <td>................(((((....+................)))))..</td>\n      <td>-10.372886</td>\n    </tr>\n    <tr>\n      <th>530</th>\n      <td>GACCTCAACGCACAGTACGAATACTTCTTAAAAAAATAACCTTCT</td>\n      <td>CGTCACTGAAACCACCGGAAAAGAAAATAGGTTTTTGGTTTTAAA</td>\n      <td>.....................................(((((...+...</td>\n      <td>-12.759941</td>\n    </tr>\n    <tr>\n      <th>531</th>\n      <td>GACCTCAACGCACAGTACGAATTAGGTAGAGGTGGGTGG</td>\n      <td>CGTCACTGAAACCACCGGAAAAAAAAACAATCCCTTTCCCTA</td>\n      <td>..............................(((((.(..+.........</td>\n      <td>-12.232126</td>\n    </tr>\n    <tr>\n      <th>532</th>\n      <td>GTCATGCGCCCCATAATTTGTTTTTGTAATTGTTTTAGTAAA</td>\n      <td>CTCGGACGCACCCATCTAATATCTTCACATATCAATATAT</td>\n      <td>....((((..................................+......</td>\n      <td>-11.514529</td>\n    </tr>\n    <tr>\n      <th>533</th>\n      <td>GTCATGCGCCCCATGATTGAGTTTATTTTGTGGGG</td>\n      <td>CTCGGACGCACCCAACCTTTACTCTTCAAAATAAAAACA</td>\n      <td>....(((((((((.................)))))+......))))...</td>\n      <td>-11.985513</td>\n    </tr>\n  </tbody>\n</table>\n<p>534 rows × 4 columns</p>\n</div>"
     },
     "metadata": {},
     "execution_count": 22
    }
   ],
   "source": [
    "X"
   ]
  },
  {
   "cell_type": "code",
   "execution_count": 23,
   "metadata": {},
   "outputs": [
    {
     "output_type": "execute_result",
     "data": {
      "text/plain": [
       "0    267\n",
       "1    267\n",
       "Name: label, dtype: int64"
      ]
     },
     "metadata": {},
     "execution_count": 23
    }
   ],
   "source": [
    "y.value_counts()"
   ]
  },
  {
   "cell_type": "code",
   "execution_count": null,
   "metadata": {},
   "outputs": [],
   "source": []
  },
  {
   "cell_type": "code",
   "execution_count": 24,
   "metadata": {},
   "outputs": [],
   "source": [
    "nupack_example_pd_temp = pd.DataFrame()\n",
    "nupack_example_pd_temp[[\"primer1\", \"primer2\", \"structure\", \"energy\"]] = X"
   ]
  },
  {
   "cell_type": "code",
   "execution_count": null,
   "metadata": {},
   "outputs": [],
   "source": []
  },
  {
   "cell_type": "code",
   "execution_count": 25,
   "metadata": {},
   "outputs": [],
   "source": [
    "nucleotide = {}\n",
    "nucleotide[\"A\"] = 0\n",
    "nucleotide[\"C\"] = 1\n",
    "nucleotide[\"G\"] = 2\n",
    "nucleotide[\"T\"] = 3\n",
    "\n",
    "X1 = [[nucleotide[s] for s in x] for x in nupack_example_pd_temp[\"primer1\"]]\n",
    "X2 = [[nucleotide[s] for s in x] for x in nupack_example_pd_temp[\"primer2\"]]"
   ]
  },
  {
   "cell_type": "code",
   "execution_count": 26,
   "metadata": {},
   "outputs": [],
   "source": [
    "max_length= 50\n",
    "X1 = sequence.pad_sequences(X1, maxlen=max_length)\n",
    "X2 = sequence.pad_sequences(X2, maxlen=max_length)"
   ]
  },
  {
   "cell_type": "code",
   "execution_count": 27,
   "metadata": {},
   "outputs": [],
   "source": [
    "y = y.values"
   ]
  },
  {
   "cell_type": "code",
   "execution_count": null,
   "metadata": {},
   "outputs": [],
   "source": []
  },
  {
   "cell_type": "code",
   "execution_count": 28,
   "metadata": {},
   "outputs": [],
   "source": [
    "structure = {}\n",
    "structure[\".\"] = 0\n",
    "structure[\"(\"] = 1\n",
    "structure[\")\"] = 2\n",
    "structure[\"+\"] = 3\n",
    "\n",
    "X3 = [[structure[s] for s in x] for x in nupack_example_pd_temp[\"structure\"]]"
   ]
  },
  {
   "cell_type": "code",
   "execution_count": 29,
   "metadata": {},
   "outputs": [],
   "source": [
    "X3 = sequence.pad_sequences(X3, maxlen=max_length)"
   ]
  },
  {
   "cell_type": "code",
   "execution_count": 30,
   "metadata": {},
   "outputs": [],
   "source": [
    "X4 = nupack_example_pd_temp[\"energy\"]"
   ]
  },
  {
   "cell_type": "code",
   "execution_count": null,
   "metadata": {},
   "outputs": [],
   "source": []
  },
  {
   "cell_type": "code",
   "execution_count": 31,
   "metadata": {},
   "outputs": [],
   "source": [
    "def Bi_LSTM2():\n",
    "    num_nt = 4\n",
    "    # create the model\n",
    "    embedding_vecor_length = 32\n",
    "    inp1 = Input(shape=(max_length,))\n",
    "    x1 = Embedding(num_nt, embedding_vecor_length, input_length=max_length)(inp1)\n",
    "    x1 = Bidirectional(LSTM(100))(x1)\n",
    "\n",
    "    inp2 = Input(shape=(max_length,))\n",
    "    x2 = Embedding(num_nt, embedding_vecor_length, input_length=max_length)(inp2)\n",
    "    x2 = Bidirectional(LSTM(100))(x2)\n",
    "\n",
    "    x12 = Concatenate()([x1, x2])\n",
    "\n",
    "    inp3 = Input(shape=(max_length,))\n",
    "    x3 = Embedding(num_nt, embedding_vecor_length, input_length=max_length)(inp3)\n",
    "    x3 = Bidirectional(LSTM(100))(x3)\n",
    "\n",
    "    x123 = Concatenate()([x12, x3])\n",
    "\n",
    "    inp4 = Input(shape=(1,))\n",
    "    x4 = Dense(1, activation='relu')(inp4)\n",
    "\n",
    "    x = Concatenate()([x123, x4])\n",
    "\n",
    "    x = Dense(1, activation='sigmoid')(x)\n",
    "    model = Model(inputs = [inp1, inp2, inp3, inp4], outputs = x)\n",
    "    model.compile(loss='binary_crossentropy', optimizer='adam', metrics=['acc'])\n",
    "    return model\n"
   ]
  },
  {
   "cell_type": "code",
   "execution_count": null,
   "metadata": {},
   "outputs": [],
   "source": []
  },
  {
   "cell_type": "code",
   "execution_count": 32,
   "metadata": {},
   "outputs": [],
   "source": [
    "model = Bi_LSTM2()"
   ]
  },
  {
   "cell_type": "code",
   "execution_count": 33,
   "metadata": {},
   "outputs": [
    {
     "output_type": "stream",
     "name": "stdout",
     "text": [
      "Epoch 1/100\n",
      "17/17 [==============================] - 20s 525ms/step - loss: 0.6872 - acc: 0.5083 - val_loss: 0.6170 - val_acc: 0.6217\n",
      "Epoch 2/100\n",
      "17/17 [==============================] - 5s 284ms/step - loss: 0.6363 - acc: 0.6493 - val_loss: 0.5612 - val_acc: 0.7566\n",
      "Epoch 3/100\n",
      "17/17 [==============================] - 5s 290ms/step - loss: 0.5790 - acc: 0.7073 - val_loss: 0.5369 - val_acc: 0.7491\n",
      "Epoch 4/100\n",
      "17/17 [==============================] - 5s 285ms/step - loss: 0.5692 - acc: 0.7298 - val_loss: 0.5151 - val_acc: 0.7509\n",
      "Epoch 5/100\n",
      "17/17 [==============================] - 4s 263ms/step - loss: 0.5218 - acc: 0.7460 - val_loss: 0.5091 - val_acc: 0.7622\n",
      "Epoch 6/100\n",
      "17/17 [==============================] - 4s 267ms/step - loss: 0.5143 - acc: 0.7531 - val_loss: 0.5114 - val_acc: 0.7640\n",
      "Epoch 7/100\n",
      "17/17 [==============================] - 5s 285ms/step - loss: 0.4934 - acc: 0.7507 - val_loss: 0.5170 - val_acc: 0.7472\n",
      "Epoch 8/100\n",
      "17/17 [==============================] - 5s 268ms/step - loss: 0.4895 - acc: 0.7646 - val_loss: 0.4669 - val_acc: 0.7715\n",
      "Epoch 9/100\n",
      "17/17 [==============================] - 4s 257ms/step - loss: 0.4825 - acc: 0.7681 - val_loss: 0.4671 - val_acc: 0.7772\n",
      "Epoch 10/100\n",
      "17/17 [==============================] - 4s 262ms/step - loss: 0.5056 - acc: 0.7583 - val_loss: 0.4411 - val_acc: 0.7903\n",
      "Epoch 11/100\n",
      "17/17 [==============================] - 5s 271ms/step - loss: 0.4250 - acc: 0.8047 - val_loss: 0.4564 - val_acc: 0.7734\n",
      "Epoch 12/100\n",
      "17/17 [==============================] - 4s 265ms/step - loss: 0.4528 - acc: 0.7792 - val_loss: 0.4518 - val_acc: 0.7959\n",
      "Epoch 13/100\n",
      "17/17 [==============================] - 4s 267ms/step - loss: 0.4788 - acc: 0.7757 - val_loss: 0.4117 - val_acc: 0.8165\n",
      "Epoch 14/100\n",
      "17/17 [==============================] - 4s 257ms/step - loss: 0.4478 - acc: 0.7723 - val_loss: 0.4688 - val_acc: 0.7978\n",
      "Epoch 15/100\n",
      "17/17 [==============================] - 4s 258ms/step - loss: 0.5112 - acc: 0.7127 - val_loss: 0.4217 - val_acc: 0.8052\n",
      "Epoch 16/100\n",
      "17/17 [==============================] - 5s 281ms/step - loss: 0.4146 - acc: 0.8008 - val_loss: 0.4020 - val_acc: 0.7978\n",
      "Epoch 17/100\n",
      "17/17 [==============================] - 5s 285ms/step - loss: 0.4158 - acc: 0.8088 - val_loss: 0.4581 - val_acc: 0.7903\n",
      "Epoch 18/100\n",
      "17/17 [==============================] - 5s 293ms/step - loss: 0.4486 - acc: 0.7847 - val_loss: 0.4175 - val_acc: 0.8127\n",
      "Epoch 19/100\n",
      "17/17 [==============================] - 5s 295ms/step - loss: 0.3857 - acc: 0.8251 - val_loss: 0.3858 - val_acc: 0.8258\n",
      "Epoch 20/100\n",
      "17/17 [==============================] - 5s 292ms/step - loss: 0.3945 - acc: 0.8165 - val_loss: 0.3755 - val_acc: 0.8464\n",
      "Epoch 21/100\n",
      "17/17 [==============================] - 5s 289ms/step - loss: 0.3618 - acc: 0.8573 - val_loss: 0.3936 - val_acc: 0.8034\n",
      "Epoch 22/100\n",
      "17/17 [==============================] - 5s 287ms/step - loss: 0.4396 - acc: 0.7905 - val_loss: 0.3992 - val_acc: 0.8015\n",
      "Epoch 23/100\n",
      "17/17 [==============================] - 5s 274ms/step - loss: 0.4120 - acc: 0.7959 - val_loss: 0.3714 - val_acc: 0.8464\n",
      "Epoch 24/100\n",
      "17/17 [==============================] - 5s 298ms/step - loss: 0.3475 - acc: 0.8447 - val_loss: 0.3523 - val_acc: 0.8427\n",
      "Epoch 25/100\n",
      "17/17 [==============================] - 5s 299ms/step - loss: 0.3492 - acc: 0.8341 - val_loss: 0.3521 - val_acc: 0.8240\n",
      "Epoch 26/100\n",
      "17/17 [==============================] - 5s 295ms/step - loss: 0.3653 - acc: 0.8229 - val_loss: 0.3762 - val_acc: 0.8390\n",
      "Epoch 27/100\n",
      "17/17 [==============================] - 5s 289ms/step - loss: 0.3751 - acc: 0.8422 - val_loss: 0.3127 - val_acc: 0.8502\n",
      "Epoch 28/100\n",
      "17/17 [==============================] - 5s 273ms/step - loss: 0.3144 - acc: 0.8757 - val_loss: 0.3020 - val_acc: 0.8708\n",
      "Epoch 29/100\n",
      "17/17 [==============================] - 4s 257ms/step - loss: 0.3094 - acc: 0.8694 - val_loss: 0.3058 - val_acc: 0.9045\n",
      "Epoch 30/100\n",
      "17/17 [==============================] - 4s 263ms/step - loss: 0.3181 - acc: 0.8737 - val_loss: 0.2694 - val_acc: 0.8914\n",
      "Epoch 31/100\n",
      "17/17 [==============================] - 5s 296ms/step - loss: 0.2770 - acc: 0.8739 - val_loss: 0.2892 - val_acc: 0.8839\n",
      "Epoch 32/100\n",
      "17/17 [==============================] - 4s 260ms/step - loss: 0.2481 - acc: 0.9040 - val_loss: 0.4793 - val_acc: 0.7921\n",
      "Epoch 33/100\n",
      "17/17 [==============================] - 4s 262ms/step - loss: 0.4667 - acc: 0.8012 - val_loss: 0.3965 - val_acc: 0.8127\n",
      "Epoch 34/100\n",
      "17/17 [==============================] - 4s 269ms/step - loss: 0.4212 - acc: 0.7882 - val_loss: 0.3997 - val_acc: 0.7697\n",
      "Epoch 35/100\n",
      "17/17 [==============================] - 5s 279ms/step - loss: 0.3512 - acc: 0.8315 - val_loss: 0.3187 - val_acc: 0.8783\n",
      "Epoch 36/100\n",
      "17/17 [==============================] - 5s 293ms/step - loss: 0.2945 - acc: 0.8922 - val_loss: 0.2617 - val_acc: 0.9157\n",
      "Epoch 37/100\n",
      "17/17 [==============================] - 4s 265ms/step - loss: 0.2601 - acc: 0.9073 - val_loss: 0.2204 - val_acc: 0.9307\n",
      "Epoch 38/100\n",
      "17/17 [==============================] - 4s 262ms/step - loss: 0.2195 - acc: 0.9290 - val_loss: 0.2161 - val_acc: 0.9307\n",
      "Epoch 39/100\n",
      "17/17 [==============================] - 4s 259ms/step - loss: 0.2129 - acc: 0.9202 - val_loss: 0.2071 - val_acc: 0.9082\n",
      "Epoch 40/100\n",
      "17/17 [==============================] - 5s 273ms/step - loss: 0.2219 - acc: 0.9073 - val_loss: 0.2002 - val_acc: 0.9139\n",
      "Epoch 41/100\n",
      "17/17 [==============================] - 5s 278ms/step - loss: 0.1727 - acc: 0.9380 - val_loss: 0.1342 - val_acc: 0.9532\n",
      "Epoch 42/100\n",
      "17/17 [==============================] - 5s 270ms/step - loss: 0.1220 - acc: 0.9681 - val_loss: 0.1187 - val_acc: 0.9644\n",
      "Epoch 43/100\n",
      "17/17 [==============================] - 4s 256ms/step - loss: 0.1286 - acc: 0.9671 - val_loss: 0.1055 - val_acc: 0.9719\n",
      "Epoch 44/100\n",
      "17/17 [==============================] - 4s 260ms/step - loss: 0.1079 - acc: 0.9673 - val_loss: 0.0897 - val_acc: 0.9700\n",
      "Epoch 45/100\n",
      "17/17 [==============================] - 4s 259ms/step - loss: 0.0729 - acc: 0.9811 - val_loss: 0.0787 - val_acc: 0.9757\n",
      "Epoch 46/100\n",
      "17/17 [==============================] - 4s 257ms/step - loss: 0.0980 - acc: 0.9638 - val_loss: 0.0810 - val_acc: 0.9794\n",
      "Epoch 47/100\n",
      "17/17 [==============================] - 5s 270ms/step - loss: 0.0630 - acc: 0.9847 - val_loss: 0.0940 - val_acc: 0.9588\n",
      "Epoch 48/100\n",
      "17/17 [==============================] - 5s 276ms/step - loss: 0.0879 - acc: 0.9687 - val_loss: 0.0574 - val_acc: 0.9906\n",
      "Epoch 49/100\n",
      "17/17 [==============================] - 5s 286ms/step - loss: 0.0570 - acc: 0.9850 - val_loss: 0.0443 - val_acc: 0.9925\n",
      "Epoch 50/100\n",
      "17/17 [==============================] - 4s 269ms/step - loss: 0.0529 - acc: 0.9859 - val_loss: 0.0303 - val_acc: 0.9944\n",
      "Epoch 51/100\n",
      "17/17 [==============================] - 5s 275ms/step - loss: 0.0432 - acc: 0.9897 - val_loss: 0.0611 - val_acc: 0.9850\n",
      "Epoch 52/100\n",
      "17/17 [==============================] - 4s 269ms/step - loss: 0.0784 - acc: 0.9665 - val_loss: 0.0539 - val_acc: 0.9794\n",
      "Epoch 53/100\n",
      "17/17 [==============================] - 5s 273ms/step - loss: 0.0525 - acc: 0.9898 - val_loss: 0.0365 - val_acc: 0.9869\n",
      "Epoch 54/100\n",
      "17/17 [==============================] - 5s 276ms/step - loss: 0.0446 - acc: 0.9878 - val_loss: 0.0333 - val_acc: 0.9906\n",
      "Epoch 55/100\n",
      "17/17 [==============================] - 5s 277ms/step - loss: 0.0340 - acc: 0.9939 - val_loss: 0.0285 - val_acc: 0.9925\n",
      "Epoch 56/100\n",
      "17/17 [==============================] - 4s 267ms/step - loss: 0.0365 - acc: 0.9888 - val_loss: 0.0329 - val_acc: 0.9906\n",
      "Epoch 57/100\n",
      "17/17 [==============================] - 4s 262ms/step - loss: 0.0576 - acc: 0.9791 - val_loss: 0.0565 - val_acc: 0.9813\n",
      "Epoch 58/100\n",
      "17/17 [==============================] - 5s 270ms/step - loss: 0.0597 - acc: 0.9823 - val_loss: 0.0386 - val_acc: 0.9850\n",
      "Epoch 59/100\n",
      "17/17 [==============================] - 5s 280ms/step - loss: 0.0495 - acc: 0.9790 - val_loss: 0.0327 - val_acc: 0.9944\n",
      "Epoch 60/100\n",
      "17/17 [==============================] - 4s 265ms/step - loss: 0.0255 - acc: 0.9960 - val_loss: 0.0187 - val_acc: 0.9981\n",
      "Epoch 61/100\n",
      "17/17 [==============================] - 4s 259ms/step - loss: 0.0178 - acc: 0.9977 - val_loss: 0.0108 - val_acc: 1.0000\n",
      "Epoch 62/100\n",
      "17/17 [==============================] - 5s 273ms/step - loss: 0.0153 - acc: 0.9957 - val_loss: 0.0120 - val_acc: 1.0000\n",
      "Epoch 63/100\n",
      "17/17 [==============================] - 5s 274ms/step - loss: 0.0110 - acc: 0.9992 - val_loss: 0.0123 - val_acc: 1.0000\n",
      "Epoch 64/100\n",
      "17/17 [==============================] - 5s 278ms/step - loss: 0.0134 - acc: 0.9979 - val_loss: 0.0091 - val_acc: 0.9981\n",
      "Epoch 65/100\n",
      "17/17 [==============================] - 4s 263ms/step - loss: 0.0168 - acc: 0.9959 - val_loss: 0.0333 - val_acc: 0.9944\n",
      "Epoch 66/100\n",
      "17/17 [==============================] - 4s 266ms/step - loss: 0.0345 - acc: 0.9894 - val_loss: 0.0554 - val_acc: 0.9794\n",
      "Epoch 67/100\n",
      "17/17 [==============================] - 4s 262ms/step - loss: 0.0438 - acc: 0.9917 - val_loss: 0.0276 - val_acc: 0.9906\n",
      "Epoch 68/100\n",
      "17/17 [==============================] - 5s 270ms/step - loss: 0.0399 - acc: 0.9943 - val_loss: 0.0224 - val_acc: 0.9944\n",
      "Epoch 69/100\n",
      "17/17 [==============================] - 5s 281ms/step - loss: 0.0199 - acc: 0.9939 - val_loss: 0.0103 - val_acc: 1.0000\n",
      "Epoch 70/100\n",
      "17/17 [==============================] - 4s 264ms/step - loss: 0.0089 - acc: 1.0000 - val_loss: 0.0069 - val_acc: 1.0000\n",
      "Epoch 71/100\n",
      "17/17 [==============================] - 4s 263ms/step - loss: 0.0070 - acc: 1.0000 - val_loss: 0.0081 - val_acc: 0.9981\n"
     ]
    }
   ],
   "source": [
    "es = EarlyStopping(monitor=\"val_acc\", min_delta=0, patience=10,restore_best_weights=True)\n",
    "\n",
    "history = model.fit([X1, X2, X3, X4], y, epochs=100, batch_size=32, validation_data = ([X1, X2, X3, X4], y), callbacks=[es])"
   ]
  },
  {
   "cell_type": "code",
   "execution_count": 34,
   "metadata": {},
   "outputs": [
    {
     "output_type": "execute_result",
     "data": {
      "text/plain": [
       "array([[267,   0],\n",
       "       [  0, 267]], dtype=int64)"
      ]
     },
     "metadata": {},
     "execution_count": 34
    }
   ],
   "source": [
    "y_hat = model.predict([X1, X2, X3, X4])\n",
    "y_hat = y_hat > 0.5\n",
    "confusion_matrix(y, y_hat)"
   ]
  },
  {
   "cell_type": "code",
   "execution_count": 35,
   "metadata": {},
   "outputs": [
    {
     "output_type": "execute_result",
     "data": {
      "image/png": "[encoded data removed]",
      "text/plain": [
       "<IPython.core.display.Image object>"
      ]
     },
     "metadata": {},
     "execution_count": 35
    }
   ],
   "source": [
    "plot_model(model, show_shapes=True, show_layer_names=True)"
   ]
  },
  {
   "cell_type": "code",
   "execution_count": null,
   "metadata": {},
   "outputs": [],
   "source": []
  },
  {
   "cell_type": "code",
   "execution_count": 36,
   "metadata": {},
   "outputs": [
    {
     "output_type": "stream",
     "name": "stdout",
     "text": [
      "Training and evaluating on fold 1 out of 50...\n",
      "Training and evaluating on fold 2 out of 50...\n",
      "Training and evaluating on fold 3 out of 50...\n",
      "Training and evaluating on fold 4 out of 50...\n",
      "Training and evaluating on fold 5 out of 50...\n",
      "Training and evaluating on fold 6 out of 50...\n",
      "Training and evaluating on fold 7 out of 50...\n",
      "Training and evaluating on fold 8 out of 50...\n",
      "Training and evaluating on fold 9 out of 50...\n",
      "Training and evaluating on fold 10 out of 50...\n",
      "Training and evaluating on fold 11 out of 50...\n",
      "Training and evaluating on fold 12 out of 50...\n",
      "Training and evaluating on fold 13 out of 50...\n",
      "Training and evaluating on fold 14 out of 50...\n",
      "Training and evaluating on fold 15 out of 50...\n",
      "Training and evaluating on fold 16 out of 50...\n",
      "Training and evaluating on fold 17 out of 50...\n",
      "Training and evaluating on fold 18 out of 50...\n",
      "Training and evaluating on fold 19 out of 50...\n",
      "Training and evaluating on fold 20 out of 50...\n",
      "Training and evaluating on fold 21 out of 50...\n",
      "Training and evaluating on fold 22 out of 50...\n",
      "Training and evaluating on fold 23 out of 50...\n",
      "Training and evaluating on fold 24 out of 50...\n",
      "Training and evaluating on fold 25 out of 50...\n",
      "Training and evaluating on fold 26 out of 50...\n",
      "Training and evaluating on fold 27 out of 50...\n",
      "Training and evaluating on fold 28 out of 50...\n",
      "Training and evaluating on fold 29 out of 50...\n",
      "Training and evaluating on fold 30 out of 50...\n",
      "Training and evaluating on fold 31 out of 50...\n",
      "Training and evaluating on fold 32 out of 50...\n",
      "Training and evaluating on fold 33 out of 50...\n",
      "Training and evaluating on fold 34 out of 50...\n",
      "Training and evaluating on fold 35 out of 50...\n",
      "Training and evaluating on fold 36 out of 50...\n",
      "Training and evaluating on fold 37 out of 50...\n",
      "Training and evaluating on fold 38 out of 50...\n",
      "Training and evaluating on fold 39 out of 50...\n",
      "Training and evaluating on fold 40 out of 50...\n",
      "Training and evaluating on fold 41 out of 50...\n",
      "Training and evaluating on fold 42 out of 50...\n",
      "Training and evaluating on fold 43 out of 50...\n",
      "Training and evaluating on fold 44 out of 50...\n",
      "Training and evaluating on fold 45 out of 50...\n",
      "Training and evaluating on fold 46 out of 50...\n",
      "Training and evaluating on fold 47 out of 50...\n",
      "Training and evaluating on fold 48 out of 50...\n",
      "Training and evaluating on fold 49 out of 50...\n",
      "Training and evaluating on fold 50 out of 50...\n"
     ]
    }
   ],
   "source": [
    "epochs = 100  # maximum number of training epochs\n",
    "folds = 10  # the number of folds for k-fold cross validation\n",
    "n_repeats = 5  # the number of repeats for repeated k-fold cross validation\n",
    "\n",
    "stratified_folds = model_selection.RepeatedStratifiedKFold(n_splits=folds, n_repeats=n_repeats).split(y, y)\n",
    "\n",
    "for i, (train_index, test_index) in enumerate(stratified_folds):\n",
    "    print(f\"Training and evaluating on fold {i+1} out of {folds * n_repeats}...\")\n",
    "    train_X1, test_X1 = X1[train_index], X1[test_index]\n",
    "    train_X2, test_X2 = X2[train_index], X2[test_index]\n",
    "    train_X3, test_X3 = X3[train_index], X3[test_index]\n",
    "    train_X4, test_X4 = X4[train_index], X4[test_index]\n",
    "    train_y, test_y = y[train_index], y[test_index]\n",
    "    \n",
    "    model = Bi_LSTM2()\n",
    "    \n",
    "    history = model.fit([train_X1, train_X2, train_X3, train_X4], train_y, epochs=epochs, validation_data=([test_X1, test_X2, test_X3, test_X4], test_y), verbose=0, callbacks=[es])\n",
    "    \n",
    "# calculate performance on the test data and return along with history\n",
    "test_accs = history.history[\"val_acc\"]"
   ]
  },
  {
   "cell_type": "code",
   "execution_count": null,
   "metadata": {},
   "outputs": [],
   "source": []
  },
  {
   "cell_type": "code",
   "execution_count": 37,
   "metadata": {},
   "outputs": [
    {
     "output_type": "stream",
     "name": "stdout",
     "text": [
      "Accuracy over all folds mean: 70.5% and std: 1.7%\n"
     ]
    }
   ],
   "source": [
    "print(f\"Accuracy over all folds mean: {np.mean(test_accs)*100:.3}% and std: {np.std(test_accs)*100:.2}%\")"
   ]
  },
  {
   "cell_type": "code",
   "execution_count": null,
   "metadata": {},
   "outputs": [],
   "source": []
  },
  {
   "cell_type": "code",
   "execution_count": 38,
   "metadata": {},
   "outputs": [
    {
     "output_type": "execute_result",
     "data": {
      "text/plain": [
       "Text(0, 0.5, 'Count')"
      ]
     },
     "metadata": {},
     "execution_count": 38
    },
    {
     "output_type": "display_data",
     "data": {
      "text/plain": "<Figure size 576x432 with 1 Axes>",
      "image/svg+xml": "<?xml version=\"1.0\" encoding=\"utf-8\" standalone=\"no\"?>\r\n<!DOCTYPE svg PUBLIC \"-//W3C//DTD SVG 1.1//EN\"\r\n  \"http://www.w3.org/Graphics/SVG/1.1/DTD/svg11.dtd\">\r\n<!-- Created with matplotlib (https://matplotlib.org/) -->\r\n<svg height=\"370.91625pt\" version=\"1.1\" viewBox=\"0 0 487.840625 370.91625\" width=\"487.840625pt\" xmlns=\"http://www.w3.org/2000/svg\" xmlns:xlink=\"http://www.w3.org/1999/xlink\">\r\n <metadata>\r\n  <rdf:RDF xmlns:cc=\"http://creativecommons.org/ns#\" xmlns:dc=\"http://purl.org/dc/elements/1.1/\" xmlns:rdf=\"http://www.w3.org/1999/02/22-rdf-syntax-ns#\">\r\n   <cc:Work>\r\n    <dc:type rdf:resource=\"http://purl.org/dc/dcmitype/StillImage\"/>\r\n    <dc:date>2021-06-29T15:25:49.631299</dc:date>\r\n    <dc:format>image/svg+xml</dc:format>\r\n    <dc:creator>\r\n     <cc:Agent>\r\n      <dc:title>Matplotlib v3.3.4, https://matplotlib.org/</dc:title>\r\n     </cc:Agent>\r\n    </dc:creator>\r\n   </cc:Work>\r\n  </rdf:RDF>\r\n </metadata>\r\n <defs>\r\n  <style type=\"text/css\">*{stroke-linecap:butt;stroke-linejoin:round;}</style>\r\n </defs>\r\n <g id=\"figure_1\">\r\n  <g id=\"patch_1\">\r\n   <path d=\"M 0 370.91625 \r\nL 487.840625 370.91625 \r\nL 487.840625 0 \r\nL 0 0 \r\nz\r\n\" style=\"fill:none;\"/>\r\n  </g>\r\n  <g id=\"axes_1\">\r\n   <g id=\"patch_2\">\r\n    <path d=\"M 34.240625 333.36 \r\nL 480.640625 333.36 \r\nL 480.640625 7.2 \r\nL 34.240625 7.2 \r\nz\r\n\" style=\"fill:#ffffff;\"/>\r\n   </g>\r\n   <g id=\"patch_3\">\r\n    <path clip-path=\"url(#pa1deb9074a)\" d=\"M 54.531534 333.36 \r\nL 95.113352 333.36 \r\nL 95.113352 281.588571 \r\nL 54.531534 281.588571 \r\nz\r\n\" style=\"fill:#1f77b4;\"/>\r\n   </g>\r\n   <g id=\"patch_4\">\r\n    <path clip-path=\"url(#pa1deb9074a)\" d=\"M 95.113352 333.36 \r\nL 135.69517 333.36 \r\nL 135.69517 333.36 \r\nL 95.113352 333.36 \r\nz\r\n\" style=\"fill:#1f77b4;\"/>\r\n   </g>\r\n   <g id=\"patch_5\">\r\n    <path clip-path=\"url(#pa1deb9074a)\" d=\"M 135.69517 333.36 \r\nL 176.276989 333.36 \r\nL 176.276989 333.36 \r\nL 135.69517 333.36 \r\nz\r\n\" style=\"fill:#1f77b4;\"/>\r\n   </g>\r\n   <g id=\"patch_6\">\r\n    <path clip-path=\"url(#pa1deb9074a)\" d=\"M 176.276989 333.36 \r\nL 216.858807 333.36 \r\nL 216.858807 333.36 \r\nL 176.276989 333.36 \r\nz\r\n\" style=\"fill:#1f77b4;\"/>\r\n   </g>\r\n   <g id=\"patch_7\">\r\n    <path clip-path=\"url(#pa1deb9074a)\" d=\"M 216.858807 333.36 \r\nL 257.440625 333.36 \r\nL 257.440625 333.36 \r\nL 216.858807 333.36 \r\nz\r\n\" style=\"fill:#1f77b4;\"/>\r\n   </g>\r\n   <g id=\"patch_8\">\r\n    <path clip-path=\"url(#pa1deb9074a)\" d=\"M 257.440625 333.36 \r\nL 298.022443 333.36 \r\nL 298.022443 333.36 \r\nL 257.440625 333.36 \r\nz\r\n\" style=\"fill:#1f77b4;\"/>\r\n   </g>\r\n   <g id=\"patch_9\">\r\n    <path clip-path=\"url(#pa1deb9074a)\" d=\"M 298.022443 333.36 \r\nL 338.604261 333.36 \r\nL 338.604261 126.274286 \r\nL 298.022443 126.274286 \r\nz\r\n\" style=\"fill:#1f77b4;\"/>\r\n   </g>\r\n   <g id=\"patch_10\">\r\n    <path clip-path=\"url(#pa1deb9074a)\" d=\"M 338.604261 333.36 \r\nL 379.18608 333.36 \r\nL 379.18608 333.36 \r\nL 338.604261 333.36 \r\nz\r\n\" style=\"fill:#1f77b4;\"/>\r\n   </g>\r\n   <g id=\"patch_11\">\r\n    <path clip-path=\"url(#pa1deb9074a)\" d=\"M 379.18608 333.36 \r\nL 419.767898 333.36 \r\nL 419.767898 333.36 \r\nL 379.18608 333.36 \r\nz\r\n\" style=\"fill:#1f77b4;\"/>\r\n   </g>\r\n   <g id=\"patch_12\">\r\n    <path clip-path=\"url(#pa1deb9074a)\" d=\"M 419.767898 333.36 \r\nL 460.349716 333.36 \r\nL 460.349716 22.731429 \r\nL 419.767898 22.731429 \r\nz\r\n\" style=\"fill:#1f77b4;\"/>\r\n   </g>\r\n   <g id=\"matplotlib.axis_1\">\r\n    <g id=\"xtick_1\">\r\n     <g id=\"line2d_1\">\r\n      <defs>\r\n       <path d=\"M 0 0 \r\nL 0 3.5 \r\n\" id=\"m2541414076\" style=\"stroke:#000000;stroke-width:0.8;\"/>\r\n      </defs>\r\n      <g>\r\n       <use style=\"stroke:#000000;stroke-width:0.8;\" x=\"51.8259\" xlink:href=\"#m2541414076\" y=\"333.36\"/>\r\n      </g>\r\n     </g>\r\n     <g id=\"text_1\">\r\n      <!-- 0.66 -->\r\n      <g transform=\"translate(40.693088 347.958438)scale(0.1 -0.1)\">\r\n       <defs>\r\n        <path d=\"M 31.78125 66.40625 \r\nQ 24.171875 66.40625 20.328125 58.90625 \r\nQ 16.5 51.421875 16.5 36.375 \r\nQ 16.5 21.390625 20.328125 13.890625 \r\nQ 24.171875 6.390625 31.78125 6.390625 \r\nQ 39.453125 6.390625 43.28125 13.890625 \r\nQ 47.125 21.390625 47.125 36.375 \r\nQ 47.125 51.421875 43.28125 58.90625 \r\nQ 39.453125 66.40625 31.78125 66.40625 \r\nz\r\nM 31.78125 74.21875 \r\nQ 44.046875 74.21875 50.515625 64.515625 \r\nQ 56.984375 54.828125 56.984375 36.375 \r\nQ 56.984375 17.96875 50.515625 8.265625 \r\nQ 44.046875 -1.421875 31.78125 -1.421875 \r\nQ 19.53125 -1.421875 13.0625 8.265625 \r\nQ 6.59375 17.96875 6.59375 36.375 \r\nQ 6.59375 54.828125 13.0625 64.515625 \r\nQ 19.53125 74.21875 31.78125 74.21875 \r\nz\r\n\" id=\"DejaVuSans-48\"/>\r\n        <path d=\"M 10.6875 12.40625 \r\nL 21 12.40625 \r\nL 21 0 \r\nL 10.6875 0 \r\nz\r\n\" id=\"DejaVuSans-46\"/>\r\n        <path d=\"M 33.015625 40.375 \r\nQ 26.375 40.375 22.484375 35.828125 \r\nQ 18.609375 31.296875 18.609375 23.390625 \r\nQ 18.609375 15.53125 22.484375 10.953125 \r\nQ 26.375 6.390625 33.015625 6.390625 \r\nQ 39.65625 6.390625 43.53125 10.953125 \r\nQ 47.40625 15.53125 47.40625 23.390625 \r\nQ 47.40625 31.296875 43.53125 35.828125 \r\nQ 39.65625 40.375 33.015625 40.375 \r\nz\r\nM 52.59375 71.296875 \r\nL 52.59375 62.3125 \r\nQ 48.875 64.0625 45.09375 64.984375 \r\nQ 41.3125 65.921875 37.59375 65.921875 \r\nQ 27.828125 65.921875 22.671875 59.328125 \r\nQ 17.53125 52.734375 16.796875 39.40625 \r\nQ 19.671875 43.65625 24.015625 45.921875 \r\nQ 28.375 48.1875 33.59375 48.1875 \r\nQ 44.578125 48.1875 50.953125 41.515625 \r\nQ 57.328125 34.859375 57.328125 23.390625 \r\nQ 57.328125 12.15625 50.6875 5.359375 \r\nQ 44.046875 -1.421875 33.015625 -1.421875 \r\nQ 20.359375 -1.421875 13.671875 8.265625 \r\nQ 6.984375 17.96875 6.984375 36.375 \r\nQ 6.984375 53.65625 15.1875 63.9375 \r\nQ 23.390625 74.21875 37.203125 74.21875 \r\nQ 40.921875 74.21875 44.703125 73.484375 \r\nQ 48.484375 72.75 52.59375 71.296875 \r\nz\r\n\" id=\"DejaVuSans-54\"/>\r\n       </defs>\r\n       <use xlink:href=\"#DejaVuSans-48\"/>\r\n       <use x=\"63.623047\" xlink:href=\"#DejaVuSans-46\"/>\r\n       <use x=\"95.410156\" xlink:href=\"#DejaVuSans-54\"/>\r\n       <use x=\"159.033203\" xlink:href=\"#DejaVuSans-54\"/>\r\n      </g>\r\n     </g>\r\n    </g>\r\n    <g id=\"xtick_2\">\r\n     <g id=\"line2d_2\">\r\n      <g>\r\n       <use style=\"stroke:#000000;stroke-width:0.8;\" x=\"123.520501\" xlink:href=\"#m2541414076\" y=\"333.36\"/>\r\n      </g>\r\n     </g>\r\n     <g id=\"text_2\">\r\n      <!-- 0.67 -->\r\n      <g transform=\"translate(112.387689 347.958438)scale(0.1 -0.1)\">\r\n       <defs>\r\n        <path d=\"M 8.203125 72.90625 \r\nL 55.078125 72.90625 \r\nL 55.078125 68.703125 \r\nL 28.609375 0 \r\nL 18.3125 0 \r\nL 43.21875 64.59375 \r\nL 8.203125 64.59375 \r\nz\r\n\" id=\"DejaVuSans-55\"/>\r\n       </defs>\r\n       <use xlink:href=\"#DejaVuSans-48\"/>\r\n       <use x=\"63.623047\" xlink:href=\"#DejaVuSans-46\"/>\r\n       <use x=\"95.410156\" xlink:href=\"#DejaVuSans-54\"/>\r\n       <use x=\"159.033203\" xlink:href=\"#DejaVuSans-55\"/>\r\n      </g>\r\n     </g>\r\n    </g>\r\n    <g id=\"xtick_3\">\r\n     <g id=\"line2d_3\">\r\n      <g>\r\n       <use style=\"stroke:#000000;stroke-width:0.8;\" x=\"195.215102\" xlink:href=\"#m2541414076\" y=\"333.36\"/>\r\n      </g>\r\n     </g>\r\n     <g id=\"text_3\">\r\n      <!-- 0.68 -->\r\n      <g transform=\"translate(184.08229 347.958438)scale(0.1 -0.1)\">\r\n       <defs>\r\n        <path d=\"M 31.78125 34.625 \r\nQ 24.75 34.625 20.71875 30.859375 \r\nQ 16.703125 27.09375 16.703125 20.515625 \r\nQ 16.703125 13.921875 20.71875 10.15625 \r\nQ 24.75 6.390625 31.78125 6.390625 \r\nQ 38.8125 6.390625 42.859375 10.171875 \r\nQ 46.921875 13.96875 46.921875 20.515625 \r\nQ 46.921875 27.09375 42.890625 30.859375 \r\nQ 38.875 34.625 31.78125 34.625 \r\nz\r\nM 21.921875 38.8125 \r\nQ 15.578125 40.375 12.03125 44.71875 \r\nQ 8.5 49.078125 8.5 55.328125 \r\nQ 8.5 64.0625 14.71875 69.140625 \r\nQ 20.953125 74.21875 31.78125 74.21875 \r\nQ 42.671875 74.21875 48.875 69.140625 \r\nQ 55.078125 64.0625 55.078125 55.328125 \r\nQ 55.078125 49.078125 51.53125 44.71875 \r\nQ 48 40.375 41.703125 38.8125 \r\nQ 48.828125 37.15625 52.796875 32.3125 \r\nQ 56.78125 27.484375 56.78125 20.515625 \r\nQ 56.78125 9.90625 50.3125 4.234375 \r\nQ 43.84375 -1.421875 31.78125 -1.421875 \r\nQ 19.734375 -1.421875 13.25 4.234375 \r\nQ 6.78125 9.90625 6.78125 20.515625 \r\nQ 6.78125 27.484375 10.78125 32.3125 \r\nQ 14.796875 37.15625 21.921875 38.8125 \r\nz\r\nM 18.3125 54.390625 \r\nQ 18.3125 48.734375 21.84375 45.5625 \r\nQ 25.390625 42.390625 31.78125 42.390625 \r\nQ 38.140625 42.390625 41.71875 45.5625 \r\nQ 45.3125 48.734375 45.3125 54.390625 \r\nQ 45.3125 60.0625 41.71875 63.234375 \r\nQ 38.140625 66.40625 31.78125 66.40625 \r\nQ 25.390625 66.40625 21.84375 63.234375 \r\nQ 18.3125 60.0625 18.3125 54.390625 \r\nz\r\n\" id=\"DejaVuSans-56\"/>\r\n       </defs>\r\n       <use xlink:href=\"#DejaVuSans-48\"/>\r\n       <use x=\"63.623047\" xlink:href=\"#DejaVuSans-46\"/>\r\n       <use x=\"95.410156\" xlink:href=\"#DejaVuSans-54\"/>\r\n       <use x=\"159.033203\" xlink:href=\"#DejaVuSans-56\"/>\r\n      </g>\r\n     </g>\r\n    </g>\r\n    <g id=\"xtick_4\">\r\n     <g id=\"line2d_4\">\r\n      <g>\r\n       <use style=\"stroke:#000000;stroke-width:0.8;\" x=\"266.909703\" xlink:href=\"#m2541414076\" y=\"333.36\"/>\r\n      </g>\r\n     </g>\r\n     <g id=\"text_4\">\r\n      <!-- 0.69 -->\r\n      <g transform=\"translate(255.776891 347.958438)scale(0.1 -0.1)\">\r\n       <defs>\r\n        <path d=\"M 10.984375 1.515625 \r\nL 10.984375 10.5 \r\nQ 14.703125 8.734375 18.5 7.8125 \r\nQ 22.3125 6.890625 25.984375 6.890625 \r\nQ 35.75 6.890625 40.890625 13.453125 \r\nQ 46.046875 20.015625 46.78125 33.40625 \r\nQ 43.953125 29.203125 39.59375 26.953125 \r\nQ 35.25 24.703125 29.984375 24.703125 \r\nQ 19.046875 24.703125 12.671875 31.3125 \r\nQ 6.296875 37.9375 6.296875 49.421875 \r\nQ 6.296875 60.640625 12.9375 67.421875 \r\nQ 19.578125 74.21875 30.609375 74.21875 \r\nQ 43.265625 74.21875 49.921875 64.515625 \r\nQ 56.59375 54.828125 56.59375 36.375 \r\nQ 56.59375 19.140625 48.40625 8.859375 \r\nQ 40.234375 -1.421875 26.421875 -1.421875 \r\nQ 22.703125 -1.421875 18.890625 -0.6875 \r\nQ 15.09375 0.046875 10.984375 1.515625 \r\nz\r\nM 30.609375 32.421875 \r\nQ 37.25 32.421875 41.125 36.953125 \r\nQ 45.015625 41.5 45.015625 49.421875 \r\nQ 45.015625 57.28125 41.125 61.84375 \r\nQ 37.25 66.40625 30.609375 66.40625 \r\nQ 23.96875 66.40625 20.09375 61.84375 \r\nQ 16.21875 57.28125 16.21875 49.421875 \r\nQ 16.21875 41.5 20.09375 36.953125 \r\nQ 23.96875 32.421875 30.609375 32.421875 \r\nz\r\n\" id=\"DejaVuSans-57\"/>\r\n       </defs>\r\n       <use xlink:href=\"#DejaVuSans-48\"/>\r\n       <use x=\"63.623047\" xlink:href=\"#DejaVuSans-46\"/>\r\n       <use x=\"95.410156\" xlink:href=\"#DejaVuSans-54\"/>\r\n       <use x=\"159.033203\" xlink:href=\"#DejaVuSans-57\"/>\r\n      </g>\r\n     </g>\r\n    </g>\r\n    <g id=\"xtick_5\">\r\n     <g id=\"line2d_5\">\r\n      <g>\r\n       <use style=\"stroke:#000000;stroke-width:0.8;\" x=\"338.604304\" xlink:href=\"#m2541414076\" y=\"333.36\"/>\r\n      </g>\r\n     </g>\r\n     <g id=\"text_5\">\r\n      <!-- 0.70 -->\r\n      <g transform=\"translate(327.471492 347.958438)scale(0.1 -0.1)\">\r\n       <use xlink:href=\"#DejaVuSans-48\"/>\r\n       <use x=\"63.623047\" xlink:href=\"#DejaVuSans-46\"/>\r\n       <use x=\"95.410156\" xlink:href=\"#DejaVuSans-55\"/>\r\n       <use x=\"159.033203\" xlink:href=\"#DejaVuSans-48\"/>\r\n      </g>\r\n     </g>\r\n    </g>\r\n    <g id=\"xtick_6\">\r\n     <g id=\"line2d_6\">\r\n      <g>\r\n       <use style=\"stroke:#000000;stroke-width:0.8;\" x=\"410.298905\" xlink:href=\"#m2541414076\" y=\"333.36\"/>\r\n      </g>\r\n     </g>\r\n     <g id=\"text_6\">\r\n      <!-- 0.71 -->\r\n      <g transform=\"translate(399.166093 347.958438)scale(0.1 -0.1)\">\r\n       <defs>\r\n        <path d=\"M 12.40625 8.296875 \r\nL 28.515625 8.296875 \r\nL 28.515625 63.921875 \r\nL 10.984375 60.40625 \r\nL 10.984375 69.390625 \r\nL 28.421875 72.90625 \r\nL 38.28125 72.90625 \r\nL 38.28125 8.296875 \r\nL 54.390625 8.296875 \r\nL 54.390625 0 \r\nL 12.40625 0 \r\nz\r\n\" id=\"DejaVuSans-49\"/>\r\n       </defs>\r\n       <use xlink:href=\"#DejaVuSans-48\"/>\r\n       <use x=\"63.623047\" xlink:href=\"#DejaVuSans-46\"/>\r\n       <use x=\"95.410156\" xlink:href=\"#DejaVuSans-55\"/>\r\n       <use x=\"159.033203\" xlink:href=\"#DejaVuSans-49\"/>\r\n      </g>\r\n     </g>\r\n    </g>\r\n    <g id=\"text_7\">\r\n     <!-- Accuracy -->\r\n     <g transform=\"translate(234.6125 361.636562)scale(0.1 -0.1)\">\r\n      <defs>\r\n       <path d=\"M 34.1875 63.1875 \r\nL 20.796875 26.90625 \r\nL 47.609375 26.90625 \r\nz\r\nM 28.609375 72.90625 \r\nL 39.796875 72.90625 \r\nL 67.578125 0 \r\nL 57.328125 0 \r\nL 50.6875 18.703125 \r\nL 17.828125 18.703125 \r\nL 11.1875 0 \r\nL 0.78125 0 \r\nz\r\n\" id=\"DejaVuSans-65\"/>\r\n       <path d=\"M 48.78125 52.59375 \r\nL 48.78125 44.1875 \r\nQ 44.96875 46.296875 41.140625 47.34375 \r\nQ 37.3125 48.390625 33.40625 48.390625 \r\nQ 24.65625 48.390625 19.8125 42.84375 \r\nQ 14.984375 37.3125 14.984375 27.296875 \r\nQ 14.984375 17.28125 19.8125 11.734375 \r\nQ 24.65625 6.203125 33.40625 6.203125 \r\nQ 37.3125 6.203125 41.140625 7.25 \r\nQ 44.96875 8.296875 48.78125 10.40625 \r\nL 48.78125 2.09375 \r\nQ 45.015625 0.34375 40.984375 -0.53125 \r\nQ 36.96875 -1.421875 32.421875 -1.421875 \r\nQ 20.0625 -1.421875 12.78125 6.34375 \r\nQ 5.515625 14.109375 5.515625 27.296875 \r\nQ 5.515625 40.671875 12.859375 48.328125 \r\nQ 20.21875 56 33.015625 56 \r\nQ 37.15625 56 41.109375 55.140625 \r\nQ 45.0625 54.296875 48.78125 52.59375 \r\nz\r\n\" id=\"DejaVuSans-99\"/>\r\n       <path d=\"M 8.5 21.578125 \r\nL 8.5 54.6875 \r\nL 17.484375 54.6875 \r\nL 17.484375 21.921875 \r\nQ 17.484375 14.15625 20.5 10.265625 \r\nQ 23.53125 6.390625 29.59375 6.390625 \r\nQ 36.859375 6.390625 41.078125 11.03125 \r\nQ 45.3125 15.671875 45.3125 23.6875 \r\nL 45.3125 54.6875 \r\nL 54.296875 54.6875 \r\nL 54.296875 0 \r\nL 45.3125 0 \r\nL 45.3125 8.40625 \r\nQ 42.046875 3.421875 37.71875 1 \r\nQ 33.40625 -1.421875 27.6875 -1.421875 \r\nQ 18.265625 -1.421875 13.375 4.4375 \r\nQ 8.5 10.296875 8.5 21.578125 \r\nz\r\nM 31.109375 56 \r\nz\r\n\" id=\"DejaVuSans-117\"/>\r\n       <path d=\"M 41.109375 46.296875 \r\nQ 39.59375 47.171875 37.8125 47.578125 \r\nQ 36.03125 48 33.890625 48 \r\nQ 26.265625 48 22.1875 43.046875 \r\nQ 18.109375 38.09375 18.109375 28.8125 \r\nL 18.109375 0 \r\nL 9.078125 0 \r\nL 9.078125 54.6875 \r\nL 18.109375 54.6875 \r\nL 18.109375 46.1875 \r\nQ 20.953125 51.171875 25.484375 53.578125 \r\nQ 30.03125 56 36.53125 56 \r\nQ 37.453125 56 38.578125 55.875 \r\nQ 39.703125 55.765625 41.0625 55.515625 \r\nz\r\n\" id=\"DejaVuSans-114\"/>\r\n       <path d=\"M 34.28125 27.484375 \r\nQ 23.390625 27.484375 19.1875 25 \r\nQ 14.984375 22.515625 14.984375 16.5 \r\nQ 14.984375 11.71875 18.140625 8.90625 \r\nQ 21.296875 6.109375 26.703125 6.109375 \r\nQ 34.1875 6.109375 38.703125 11.40625 \r\nQ 43.21875 16.703125 43.21875 25.484375 \r\nL 43.21875 27.484375 \r\nz\r\nM 52.203125 31.203125 \r\nL 52.203125 0 \r\nL 43.21875 0 \r\nL 43.21875 8.296875 \r\nQ 40.140625 3.328125 35.546875 0.953125 \r\nQ 30.953125 -1.421875 24.3125 -1.421875 \r\nQ 15.921875 -1.421875 10.953125 3.296875 \r\nQ 6 8.015625 6 15.921875 \r\nQ 6 25.140625 12.171875 29.828125 \r\nQ 18.359375 34.515625 30.609375 34.515625 \r\nL 43.21875 34.515625 \r\nL 43.21875 35.40625 \r\nQ 43.21875 41.609375 39.140625 45 \r\nQ 35.0625 48.390625 27.6875 48.390625 \r\nQ 23 48.390625 18.546875 47.265625 \r\nQ 14.109375 46.140625 10.015625 43.890625 \r\nL 10.015625 52.203125 \r\nQ 14.9375 54.109375 19.578125 55.046875 \r\nQ 24.21875 56 28.609375 56 \r\nQ 40.484375 56 46.34375 49.84375 \r\nQ 52.203125 43.703125 52.203125 31.203125 \r\nz\r\n\" id=\"DejaVuSans-97\"/>\r\n       <path d=\"M 32.171875 -5.078125 \r\nQ 28.375 -14.84375 24.75 -17.8125 \r\nQ 21.140625 -20.796875 15.09375 -20.796875 \r\nL 7.90625 -20.796875 \r\nL 7.90625 -13.28125 \r\nL 13.1875 -13.28125 \r\nQ 16.890625 -13.28125 18.9375 -11.515625 \r\nQ 21 -9.765625 23.484375 -3.21875 \r\nL 25.09375 0.875 \r\nL 2.984375 54.6875 \r\nL 12.5 54.6875 \r\nL 29.59375 11.921875 \r\nL 46.6875 54.6875 \r\nL 56.203125 54.6875 \r\nz\r\n\" id=\"DejaVuSans-121\"/>\r\n      </defs>\r\n      <use xlink:href=\"#DejaVuSans-65\"/>\r\n      <use x=\"66.658203\" xlink:href=\"#DejaVuSans-99\"/>\r\n      <use x=\"121.638672\" xlink:href=\"#DejaVuSans-99\"/>\r\n      <use x=\"176.619141\" xlink:href=\"#DejaVuSans-117\"/>\r\n      <use x=\"239.998047\" xlink:href=\"#DejaVuSans-114\"/>\r\n      <use x=\"281.111328\" xlink:href=\"#DejaVuSans-97\"/>\r\n      <use x=\"342.390625\" xlink:href=\"#DejaVuSans-99\"/>\r\n      <use x=\"397.371094\" xlink:href=\"#DejaVuSans-121\"/>\r\n     </g>\r\n    </g>\r\n   </g>\r\n   <g id=\"matplotlib.axis_2\">\r\n    <g id=\"ytick_1\">\r\n     <g id=\"line2d_7\">\r\n      <defs>\r\n       <path d=\"M 0 0 \r\nL -3.5 0 \r\n\" id=\"m7971ef903e\" style=\"stroke:#000000;stroke-width:0.8;\"/>\r\n      </defs>\r\n      <g>\r\n       <use style=\"stroke:#000000;stroke-width:0.8;\" x=\"34.240625\" xlink:href=\"#m7971ef903e\" y=\"333.36\"/>\r\n      </g>\r\n     </g>\r\n     <g id=\"text_8\">\r\n      <!-- 0 -->\r\n      <g transform=\"translate(20.878125 337.159219)scale(0.1 -0.1)\">\r\n       <use xlink:href=\"#DejaVuSans-48\"/>\r\n      </g>\r\n     </g>\r\n    </g>\r\n    <g id=\"ytick_2\">\r\n     <g id=\"line2d_8\">\r\n      <g>\r\n       <use style=\"stroke:#000000;stroke-width:0.8;\" x=\"34.240625\" xlink:href=\"#m7971ef903e\" y=\"281.588571\"/>\r\n      </g>\r\n     </g>\r\n     <g id=\"text_9\">\r\n      <!-- 1 -->\r\n      <g transform=\"translate(20.878125 285.38779)scale(0.1 -0.1)\">\r\n       <use xlink:href=\"#DejaVuSans-49\"/>\r\n      </g>\r\n     </g>\r\n    </g>\r\n    <g id=\"ytick_3\">\r\n     <g id=\"line2d_9\">\r\n      <g>\r\n       <use style=\"stroke:#000000;stroke-width:0.8;\" x=\"34.240625\" xlink:href=\"#m7971ef903e\" y=\"229.817143\"/>\r\n      </g>\r\n     </g>\r\n     <g id=\"text_10\">\r\n      <!-- 2 -->\r\n      <g transform=\"translate(20.878125 233.616362)scale(0.1 -0.1)\">\r\n       <defs>\r\n        <path d=\"M 19.1875 8.296875 \r\nL 53.609375 8.296875 \r\nL 53.609375 0 \r\nL 7.328125 0 \r\nL 7.328125 8.296875 \r\nQ 12.9375 14.109375 22.625 23.890625 \r\nQ 32.328125 33.6875 34.8125 36.53125 \r\nQ 39.546875 41.84375 41.421875 45.53125 \r\nQ 43.3125 49.21875 43.3125 52.78125 \r\nQ 43.3125 58.59375 39.234375 62.25 \r\nQ 35.15625 65.921875 28.609375 65.921875 \r\nQ 23.96875 65.921875 18.8125 64.3125 \r\nQ 13.671875 62.703125 7.8125 59.421875 \r\nL 7.8125 69.390625 \r\nQ 13.765625 71.78125 18.9375 73 \r\nQ 24.125 74.21875 28.421875 74.21875 \r\nQ 39.75 74.21875 46.484375 68.546875 \r\nQ 53.21875 62.890625 53.21875 53.421875 \r\nQ 53.21875 48.921875 51.53125 44.890625 \r\nQ 49.859375 40.875 45.40625 35.40625 \r\nQ 44.1875 33.984375 37.640625 27.21875 \r\nQ 31.109375 20.453125 19.1875 8.296875 \r\nz\r\n\" id=\"DejaVuSans-50\"/>\r\n       </defs>\r\n       <use xlink:href=\"#DejaVuSans-50\"/>\r\n      </g>\r\n     </g>\r\n    </g>\r\n    <g id=\"ytick_4\">\r\n     <g id=\"line2d_10\">\r\n      <g>\r\n       <use style=\"stroke:#000000;stroke-width:0.8;\" x=\"34.240625\" xlink:href=\"#m7971ef903e\" y=\"178.045714\"/>\r\n      </g>\r\n     </g>\r\n     <g id=\"text_11\">\r\n      <!-- 3 -->\r\n      <g transform=\"translate(20.878125 181.844933)scale(0.1 -0.1)\">\r\n       <defs>\r\n        <path d=\"M 40.578125 39.3125 \r\nQ 47.65625 37.796875 51.625 33 \r\nQ 55.609375 28.21875 55.609375 21.1875 \r\nQ 55.609375 10.40625 48.1875 4.484375 \r\nQ 40.765625 -1.421875 27.09375 -1.421875 \r\nQ 22.515625 -1.421875 17.65625 -0.515625 \r\nQ 12.796875 0.390625 7.625 2.203125 \r\nL 7.625 11.71875 \r\nQ 11.71875 9.328125 16.59375 8.109375 \r\nQ 21.484375 6.890625 26.8125 6.890625 \r\nQ 36.078125 6.890625 40.9375 10.546875 \r\nQ 45.796875 14.203125 45.796875 21.1875 \r\nQ 45.796875 27.640625 41.28125 31.265625 \r\nQ 36.765625 34.90625 28.71875 34.90625 \r\nL 20.21875 34.90625 \r\nL 20.21875 43.015625 \r\nL 29.109375 43.015625 \r\nQ 36.375 43.015625 40.234375 45.921875 \r\nQ 44.09375 48.828125 44.09375 54.296875 \r\nQ 44.09375 59.90625 40.109375 62.90625 \r\nQ 36.140625 65.921875 28.71875 65.921875 \r\nQ 24.65625 65.921875 20.015625 65.03125 \r\nQ 15.375 64.15625 9.8125 62.3125 \r\nL 9.8125 71.09375 \r\nQ 15.4375 72.65625 20.34375 73.4375 \r\nQ 25.25 74.21875 29.59375 74.21875 \r\nQ 40.828125 74.21875 47.359375 69.109375 \r\nQ 53.90625 64.015625 53.90625 55.328125 \r\nQ 53.90625 49.265625 50.4375 45.09375 \r\nQ 46.96875 40.921875 40.578125 39.3125 \r\nz\r\n\" id=\"DejaVuSans-51\"/>\r\n       </defs>\r\n       <use xlink:href=\"#DejaVuSans-51\"/>\r\n      </g>\r\n     </g>\r\n    </g>\r\n    <g id=\"ytick_5\">\r\n     <g id=\"line2d_11\">\r\n      <g>\r\n       <use style=\"stroke:#000000;stroke-width:0.8;\" x=\"34.240625\" xlink:href=\"#m7971ef903e\" y=\"126.274286\"/>\r\n      </g>\r\n     </g>\r\n     <g id=\"text_12\">\r\n      <!-- 4 -->\r\n      <g transform=\"translate(20.878125 130.073504)scale(0.1 -0.1)\">\r\n       <defs>\r\n        <path d=\"M 37.796875 64.3125 \r\nL 12.890625 25.390625 \r\nL 37.796875 25.390625 \r\nz\r\nM 35.203125 72.90625 \r\nL 47.609375 72.90625 \r\nL 47.609375 25.390625 \r\nL 58.015625 25.390625 \r\nL 58.015625 17.1875 \r\nL 47.609375 17.1875 \r\nL 47.609375 0 \r\nL 37.796875 0 \r\nL 37.796875 17.1875 \r\nL 4.890625 17.1875 \r\nL 4.890625 26.703125 \r\nz\r\n\" id=\"DejaVuSans-52\"/>\r\n       </defs>\r\n       <use xlink:href=\"#DejaVuSans-52\"/>\r\n      </g>\r\n     </g>\r\n    </g>\r\n    <g id=\"ytick_6\">\r\n     <g id=\"line2d_12\">\r\n      <g>\r\n       <use style=\"stroke:#000000;stroke-width:0.8;\" x=\"34.240625\" xlink:href=\"#m7971ef903e\" y=\"74.502857\"/>\r\n      </g>\r\n     </g>\r\n     <g id=\"text_13\">\r\n      <!-- 5 -->\r\n      <g transform=\"translate(20.878125 78.302076)scale(0.1 -0.1)\">\r\n       <defs>\r\n        <path d=\"M 10.796875 72.90625 \r\nL 49.515625 72.90625 \r\nL 49.515625 64.59375 \r\nL 19.828125 64.59375 \r\nL 19.828125 46.734375 \r\nQ 21.96875 47.46875 24.109375 47.828125 \r\nQ 26.265625 48.1875 28.421875 48.1875 \r\nQ 40.625 48.1875 47.75 41.5 \r\nQ 54.890625 34.8125 54.890625 23.390625 \r\nQ 54.890625 11.625 47.5625 5.09375 \r\nQ 40.234375 -1.421875 26.90625 -1.421875 \r\nQ 22.3125 -1.421875 17.546875 -0.640625 \r\nQ 12.796875 0.140625 7.71875 1.703125 \r\nL 7.71875 11.625 \r\nQ 12.109375 9.234375 16.796875 8.0625 \r\nQ 21.484375 6.890625 26.703125 6.890625 \r\nQ 35.15625 6.890625 40.078125 11.328125 \r\nQ 45.015625 15.765625 45.015625 23.390625 \r\nQ 45.015625 31 40.078125 35.4375 \r\nQ 35.15625 39.890625 26.703125 39.890625 \r\nQ 22.75 39.890625 18.8125 39.015625 \r\nQ 14.890625 38.140625 10.796875 36.28125 \r\nz\r\n\" id=\"DejaVuSans-53\"/>\r\n       </defs>\r\n       <use xlink:href=\"#DejaVuSans-53\"/>\r\n      </g>\r\n     </g>\r\n    </g>\r\n    <g id=\"ytick_7\">\r\n     <g id=\"line2d_13\">\r\n      <g>\r\n       <use style=\"stroke:#000000;stroke-width:0.8;\" x=\"34.240625\" xlink:href=\"#m7971ef903e\" y=\"22.731429\"/>\r\n      </g>\r\n     </g>\r\n     <g id=\"text_14\">\r\n      <!-- 6 -->\r\n      <g transform=\"translate(20.878125 26.530647)scale(0.1 -0.1)\">\r\n       <use xlink:href=\"#DejaVuSans-54\"/>\r\n      </g>\r\n     </g>\r\n    </g>\r\n    <g id=\"text_15\">\r\n     <!-- Count -->\r\n     <g transform=\"translate(14.798437 185.128437)rotate(-90)scale(0.1 -0.1)\">\r\n      <defs>\r\n       <path d=\"M 64.40625 67.28125 \r\nL 64.40625 56.890625 \r\nQ 59.421875 61.53125 53.78125 63.8125 \r\nQ 48.140625 66.109375 41.796875 66.109375 \r\nQ 29.296875 66.109375 22.65625 58.46875 \r\nQ 16.015625 50.828125 16.015625 36.375 \r\nQ 16.015625 21.96875 22.65625 14.328125 \r\nQ 29.296875 6.6875 41.796875 6.6875 \r\nQ 48.140625 6.6875 53.78125 8.984375 \r\nQ 59.421875 11.28125 64.40625 15.921875 \r\nL 64.40625 5.609375 \r\nQ 59.234375 2.09375 53.4375 0.328125 \r\nQ 47.65625 -1.421875 41.21875 -1.421875 \r\nQ 24.65625 -1.421875 15.125 8.703125 \r\nQ 5.609375 18.84375 5.609375 36.375 \r\nQ 5.609375 53.953125 15.125 64.078125 \r\nQ 24.65625 74.21875 41.21875 74.21875 \r\nQ 47.75 74.21875 53.53125 72.484375 \r\nQ 59.328125 70.75 64.40625 67.28125 \r\nz\r\n\" id=\"DejaVuSans-67\"/>\r\n       <path d=\"M 30.609375 48.390625 \r\nQ 23.390625 48.390625 19.1875 42.75 \r\nQ 14.984375 37.109375 14.984375 27.296875 \r\nQ 14.984375 17.484375 19.15625 11.84375 \r\nQ 23.34375 6.203125 30.609375 6.203125 \r\nQ 37.796875 6.203125 41.984375 11.859375 \r\nQ 46.1875 17.53125 46.1875 27.296875 \r\nQ 46.1875 37.015625 41.984375 42.703125 \r\nQ 37.796875 48.390625 30.609375 48.390625 \r\nz\r\nM 30.609375 56 \r\nQ 42.328125 56 49.015625 48.375 \r\nQ 55.71875 40.765625 55.71875 27.296875 \r\nQ 55.71875 13.875 49.015625 6.21875 \r\nQ 42.328125 -1.421875 30.609375 -1.421875 \r\nQ 18.84375 -1.421875 12.171875 6.21875 \r\nQ 5.515625 13.875 5.515625 27.296875 \r\nQ 5.515625 40.765625 12.171875 48.375 \r\nQ 18.84375 56 30.609375 56 \r\nz\r\n\" id=\"DejaVuSans-111\"/>\r\n       <path d=\"M 54.890625 33.015625 \r\nL 54.890625 0 \r\nL 45.90625 0 \r\nL 45.90625 32.71875 \r\nQ 45.90625 40.484375 42.875 44.328125 \r\nQ 39.84375 48.1875 33.796875 48.1875 \r\nQ 26.515625 48.1875 22.3125 43.546875 \r\nQ 18.109375 38.921875 18.109375 30.90625 \r\nL 18.109375 0 \r\nL 9.078125 0 \r\nL 9.078125 54.6875 \r\nL 18.109375 54.6875 \r\nL 18.109375 46.1875 \r\nQ 21.34375 51.125 25.703125 53.5625 \r\nQ 30.078125 56 35.796875 56 \r\nQ 45.21875 56 50.046875 50.171875 \r\nQ 54.890625 44.34375 54.890625 33.015625 \r\nz\r\n\" id=\"DejaVuSans-110\"/>\r\n       <path d=\"M 18.3125 70.21875 \r\nL 18.3125 54.6875 \r\nL 36.8125 54.6875 \r\nL 36.8125 47.703125 \r\nL 18.3125 47.703125 \r\nL 18.3125 18.015625 \r\nQ 18.3125 11.328125 20.140625 9.421875 \r\nQ 21.96875 7.515625 27.59375 7.515625 \r\nL 36.8125 7.515625 \r\nL 36.8125 0 \r\nL 27.59375 0 \r\nQ 17.1875 0 13.234375 3.875 \r\nQ 9.28125 7.765625 9.28125 18.015625 \r\nL 9.28125 47.703125 \r\nL 2.6875 47.703125 \r\nL 2.6875 54.6875 \r\nL 9.28125 54.6875 \r\nL 9.28125 70.21875 \r\nz\r\n\" id=\"DejaVuSans-116\"/>\r\n      </defs>\r\n      <use xlink:href=\"#DejaVuSans-67\"/>\r\n      <use x=\"69.824219\" xlink:href=\"#DejaVuSans-111\"/>\r\n      <use x=\"131.005859\" xlink:href=\"#DejaVuSans-117\"/>\r\n      <use x=\"194.384766\" xlink:href=\"#DejaVuSans-110\"/>\r\n      <use x=\"257.763672\" xlink:href=\"#DejaVuSans-116\"/>\r\n     </g>\r\n    </g>\r\n   </g>\r\n   <g id=\"patch_13\">\r\n    <path d=\"M 34.240625 333.36 \r\nL 34.240625 7.2 \r\n\" style=\"fill:none;stroke:#000000;stroke-linecap:square;stroke-linejoin:miter;stroke-width:0.8;\"/>\r\n   </g>\r\n   <g id=\"patch_14\">\r\n    <path d=\"M 480.640625 333.36 \r\nL 480.640625 7.2 \r\n\" style=\"fill:none;stroke:#000000;stroke-linecap:square;stroke-linejoin:miter;stroke-width:0.8;\"/>\r\n   </g>\r\n   <g id=\"patch_15\">\r\n    <path d=\"M 34.240625 333.36 \r\nL 480.640625 333.36 \r\n\" style=\"fill:none;stroke:#000000;stroke-linecap:square;stroke-linejoin:miter;stroke-width:0.8;\"/>\r\n   </g>\r\n   <g id=\"patch_16\">\r\n    <path d=\"M 34.240625 7.2 \r\nL 480.640625 7.2 \r\n\" style=\"fill:none;stroke:#000000;stroke-linecap:square;stroke-linejoin:miter;stroke-width:0.8;\"/>\r\n   </g>\r\n  </g>\r\n </g>\r\n <defs>\r\n  <clipPath id=\"pa1deb9074a\">\r\n   <rect height=\"326.16\" width=\"446.4\" x=\"34.240625\" y=\"7.2\"/>\r\n  </clipPath>\r\n </defs>\r\n</svg>\r\n",
      "image/png": "[encoded data removed]"
     },
     "metadata": {
      "needs_background": "light"
     }
    }
   ],
   "source": [
    "plt.figure(figsize=(8, 6))\n",
    "plt.hist(test_accs)\n",
    "plt.xlabel(\"Accuracy\")\n",
    "plt.ylabel(\"Count\")"
   ]
  },
  {
   "cell_type": "code",
   "execution_count": null,
   "metadata": {},
   "outputs": [],
   "source": []
  }
 ]
}